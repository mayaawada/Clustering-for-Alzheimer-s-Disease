{
  "nbformat": 4,
  "nbformat_minor": 0,
  "metadata": {
    "colab": {
      "name": "Clustering for Alzheimer’s Disease.ipynb",
      "provenance": [],
      "collapsed_sections": []
    },
    "kernelspec": {
      "name": "python3",
      "display_name": "Python 3"
    },
    "language_info": {
      "name": "python"
    },
    "accelerator": "GPU"
  },
  "cells": [
    {
      "cell_type": "markdown",
      "source": [
        "Conneting Google Drive and Google Colab"
      ],
      "metadata": {
        "id": "qoRJUffOXbLP"
      }
    },
    {
      "cell_type": "code",
      "execution_count": 49,
      "metadata": {
        "colab": {
          "base_uri": "https://localhost:8080/"
        },
        "id": "LYnfhQ9WHxgO",
        "outputId": "f3c33110-4982-4189-f250-00ced711330a"
      },
      "outputs": [
        {
          "output_type": "stream",
          "name": "stdout",
          "text": [
            "Drive already mounted at /content/drive; to attempt to forcibly remount, call drive.mount(\"/content/drive\", force_remount=True).\n"
          ]
        }
      ],
      "source": [
        "drive.mount('/content/drive')\n",
        "os.chdir('/content/drive/MyDrive/Alzheimer_Research_Project')"
      ]
    },
    {
      "cell_type": "markdown",
      "source": [
        "Importing Libraries"
      ],
      "metadata": {
        "id": "MkRwmYsQIrq_"
      }
    },
    {
      "cell_type": "code",
      "source": [
        "import os\n",
        "import sys\n",
        "import random\n",
        "import warnings\n",
        "import numpy as np\n",
        "import pandas as pd\n",
        "import seaborn as sns \n",
        "import tensorflow as tf\n",
        "import matplotlib.cm as cm\n",
        "import plotly.express as px\n",
        "import Cluster_Ensembles as CE\n",
        "import matplotlib.pyplot as plt\n",
        "\n",
        "from google.colab import drive\n",
        "from sklearn.manifold import TSNE\n",
        "from scipy.spatial import distance\n",
        "from keras.models import load_model\n",
        "from sklearn.decomposition import PCA \n",
        "from sklearn.mixture import GaussianMixture\n",
        "from sklearn.model_selection import train_test_split\n",
        "from sklearn.cluster import KMeans, AffinityPropagation\n",
        "from tensorflow.keras.layers import Conv1D, MaxPooling1D, Dense, Flatten, Dropout, Activation\n",
        "from sklearn.metrics import silhouette_samples, silhouette_score, normalized_mutual_info_score, jaccard_score"
      ],
      "metadata": {
        "id": "9HXPCDExImhp"
      },
      "execution_count": 50,
      "outputs": []
    },
    {
      "cell_type": "markdown",
      "source": [
        "Loading Data"
      ],
      "metadata": {
        "id": "BqoSZXcHIwd4"
      }
    },
    {
      "cell_type": "code",
      "source": [
        "data = np.load('data.npy', allow_pickle=True)\n",
        "targets = np.load('targets.npy', allow_pickle=True)\n",
        "ids = np.load('idfs.npy', allow_pickle=True)"
      ],
      "metadata": {
        "id": "6enwM2MLI2PJ"
      },
      "execution_count": null,
      "outputs": []
    },
    {
      "cell_type": "code",
      "source": [
        "print(len(data), 'individuals.')\n",
        "print(len(data[0]), 'letters written by each individual.') \n",
        "print(len(data[0][0]), 'observations for each letter.') \n",
        "print(len(data[0][0][0]), 'measurements for each observation: v(x) and v(y).') "
      ],
      "metadata": {
        "colab": {
          "base_uri": "https://localhost:8080/"
        },
        "id": "m9J6DZ63MH28",
        "outputId": "cc6604ed-1d54-4cf0-bf17-0a39c0e80a9e"
      },
      "execution_count": null,
      "outputs": [
        {
          "output_type": "stream",
          "name": "stdout",
          "text": [
            "54 individuals.\n",
            "16 letters written by each individual.\n",
            "176 observations for each letter.\n",
            "2 measurements for each observation: v(x) and v(y).\n"
          ]
        }
      ]
    },
    {
      "cell_type": "code",
      "source": [
        "print(len(targets), 'target values, 1 for each individual')\n",
        "print(np.unique(targets), ' Label 0: Healthy Control - Label 1: Alzheimer Patient') \n",
        "print(len(ids), 'ids, 1 distinct id for each individual') "
      ],
      "metadata": {
        "colab": {
          "base_uri": "https://localhost:8080/"
        },
        "id": "A8SErSHVMjOP",
        "outputId": "8d5620e6-224e-4439-9801-d9a99ee6fa5f"
      },
      "execution_count": null,
      "outputs": [
        {
          "output_type": "stream",
          "name": "stdout",
          "text": [
            "54 target values, 1 for each individual\n",
            "[0 1]  Label 0: Healthy Control - Label 1: Alzheimer Patient\n",
            "54 ids, 1 distinct id for each individual\n"
          ]
        }
      ]
    },
    {
      "cell_type": "markdown",
      "source": [
        "Data Pre-Processing"
      ],
      "metadata": {
        "id": "uCMoF3zCALM6"
      }
    },
    {
      "cell_type": "code",
      "source": [
        "print(data.shape)\n",
        "\n",
        "new_data = np.zeros((54, 16, 176, 2))\n",
        "\n",
        "for i in range(len(data)):\n",
        "  for j in range(len(data[0])):\n",
        "    for k in range(len(data[0][0])):\n",
        "      for l in range(len(data[0][0][0])):\n",
        "        new_data[i][j][k][l] = data[i][j][k][l]\n",
        "\n",
        "print(new_data.shape)"
      ],
      "metadata": {
        "colab": {
          "base_uri": "https://localhost:8080/"
        },
        "id": "SWH2OwRvsCas",
        "outputId": "0fbcde48-3799-4b47-a4b5-5ce33d994a6b"
      },
      "execution_count": null,
      "outputs": [
        {
          "output_type": "stream",
          "name": "stdout",
          "text": [
            "(54,)\n",
            "(54, 16, 176, 2)\n"
          ]
        }
      ]
    },
    {
      "cell_type": "code",
      "source": [
        "# Data Augmentation\n",
        "\n",
        "final_data = []\n",
        "for i in range (54):\n",
        "  for j in range (16): # seperating the l letters so that each l letter is a unique observation --> obtaining 16 samples from a single one\n",
        "    final_data.append(new_data[i][j])\n",
        "\n",
        "final_target = []\n",
        "for i in range (54):\n",
        "  for j in range (16):\n",
        "    final_target.append(targets[i]) # each l letter has now a label --> appending the same target 16 times\n",
        "\n",
        "final_data = np.array(final_data)\n",
        "final_target = np.array(final_target)\n",
        "\n",
        "print(final_data.shape)\n",
        "print(final_data[0].shape) # this should be the input_shape of our NN"
      ],
      "metadata": {
        "id": "FUZCB4LmOmi7",
        "colab": {
          "base_uri": "https://localhost:8080/"
        },
        "outputId": "90e1a432-14d6-46ec-bc48-a4079c24943f"
      },
      "execution_count": null,
      "outputs": [
        {
          "output_type": "stream",
          "name": "stdout",
          "text": [
            "(864, 176, 2)\n",
            "(176, 2)\n"
          ]
        }
      ]
    },
    {
      "cell_type": "markdown",
      "source": [
        "Feature Extraction"
      ],
      "metadata": {
        "id": "m8OHbyrEcRrX"
      }
    },
    {
      "cell_type": "code",
      "source": [
        "input_shape = (176, 2)\n",
        "\n",
        "input = tf.keras.layers.Input(shape = input_shape, name='input')\n",
        "\n",
        "x = Conv1D(6, 12, strides=(1,), input_shape=input.shape)(input)\n",
        "x = Activation('relu')(x)\n",
        "x = Conv1D(12, 12, strides=(1,))(x)\n",
        "x = Activation('relu')(x)\n",
        "x = MaxPooling1D(pool_size=4)(x)\n",
        "\n",
        "x = Dropout(.5)(x)\n",
        "\n",
        "x = Conv1D(24, 12, strides=(1,))(x)\n",
        "x = Activation('relu')(x)\n",
        "x = Conv1D(48, 12, strides=(1,))(x)\n",
        "x = Activation('relu')(x)\n",
        "x = MaxPooling1D(pool_size=2, strides=2)(x)\n",
        "\n",
        "x = Dropout(.6)(x)\n",
        "\n",
        "x = Flatten()(x)\n",
        "\n",
        "x = Dense(144)(x)\n",
        "#x = Dense(50)(x)\n",
        "x = Dense(1)(x)\n",
        "\n",
        "output = Activation('sigmoid')(x)\n",
        "\n",
        "model = tf.keras.Model(input, output, name=\"CNN\")"
      ],
      "metadata": {
        "id": "Jw_hR0V9Na5z"
      },
      "execution_count": null,
      "outputs": []
    },
    {
      "cell_type": "code",
      "source": [
        "model.summary()"
      ],
      "metadata": {
        "colab": {
          "base_uri": "https://localhost:8080/"
        },
        "id": "8ZHTO5WFPILm",
        "outputId": "f5406390-8d24-4736-c08f-b4a8229a25cd"
      },
      "execution_count": null,
      "outputs": [
        {
          "output_type": "stream",
          "name": "stdout",
          "text": [
            "Model: \"CNN\"\n",
            "_________________________________________________________________\n",
            " Layer (type)                Output Shape              Param #   \n",
            "=================================================================\n",
            " input (InputLayer)          [(None, 176, 2)]          0         \n",
            "                                                                 \n",
            " conv1d_12 (Conv1D)          (None, 165, 6)            150       \n",
            "                                                                 \n",
            " activation_15 (Activation)  (None, 165, 6)            0         \n",
            "                                                                 \n",
            " conv1d_13 (Conv1D)          (None, 154, 12)           876       \n",
            "                                                                 \n",
            " activation_16 (Activation)  (None, 154, 12)           0         \n",
            "                                                                 \n",
            " max_pooling1d_6 (MaxPooling  (None, 38, 12)           0         \n",
            " 1D)                                                             \n",
            "                                                                 \n",
            " dropout_6 (Dropout)         (None, 38, 12)            0         \n",
            "                                                                 \n",
            " conv1d_14 (Conv1D)          (None, 27, 24)            3480      \n",
            "                                                                 \n",
            " activation_17 (Activation)  (None, 27, 24)            0         \n",
            "                                                                 \n",
            " conv1d_15 (Conv1D)          (None, 16, 48)            13872     \n",
            "                                                                 \n",
            " activation_18 (Activation)  (None, 16, 48)            0         \n",
            "                                                                 \n",
            " max_pooling1d_7 (MaxPooling  (None, 8, 48)            0         \n",
            " 1D)                                                             \n",
            "                                                                 \n",
            " dropout_7 (Dropout)         (None, 8, 48)             0         \n",
            "                                                                 \n",
            " flatten_3 (Flatten)         (None, 384)               0         \n",
            "                                                                 \n",
            " dense_6 (Dense)             (None, 144)               55440     \n",
            "                                                                 \n",
            " dense_7 (Dense)             (None, 1)                 145       \n",
            "                                                                 \n",
            " activation_19 (Activation)  (None, 1)                 0         \n",
            "                                                                 \n",
            "=================================================================\n",
            "Total params: 73,963\n",
            "Trainable params: 73,963\n",
            "Non-trainable params: 0\n",
            "_________________________________________________________________\n"
          ]
        }
      ]
    },
    {
      "cell_type": "code",
      "source": [
        "data_train, data_val, target_train, target_val = train_test_split(final_data, \n",
        "                                                                  final_target, \n",
        "                                                                  train_size=0.6, \n",
        "                                                                  stratify=final_target)\n",
        "print(data_train.shape)\n",
        "print(target_train.shape)"
      ],
      "metadata": {
        "id": "vzP6xLehjedp",
        "colab": {
          "base_uri": "https://localhost:8080/"
        },
        "outputId": "fe5d755a-d042-4a62-debf-4ec86a88aded"
      },
      "execution_count": null,
      "outputs": [
        {
          "output_type": "stream",
          "name": "stdout",
          "text": [
            "(518, 176, 2)\n",
            "(518,)\n"
          ]
        }
      ]
    },
    {
      "cell_type": "code",
      "source": [
        "model.compile(optimizer=tf.keras.optimizers.Adam(), loss='binary_crossentropy', metrics=['accuracy'])\n",
        "\n",
        "# Defining the parameters\n",
        "num_epochs = 60\n",
        "batch_size = 64\n",
        "\n",
        "# Training the model\n",
        "history = model.fit(data_train, \n",
        "                    target_train, \n",
        "                    epochs=num_epochs, \n",
        "                    batch_size=batch_size, \n",
        "                    validation_data=(data_val, target_val))"
      ],
      "metadata": {
        "colab": {
          "base_uri": "https://localhost:8080/"
        },
        "id": "5L9nPK2mP1TF",
        "outputId": "6f8ec09a-5a93-4d78-96fc-c12cbaea952a"
      },
      "execution_count": null,
      "outputs": [
        {
          "output_type": "stream",
          "name": "stdout",
          "text": [
            "Epoch 1/60\n",
            "9/9 [==============================] - 1s 30ms/step - loss: 0.6841 - accuracy: 0.5598 - val_loss: 0.6586 - val_accuracy: 0.6329\n",
            "Epoch 2/60\n",
            "9/9 [==============================] - 0s 8ms/step - loss: 0.6567 - accuracy: 0.6081 - val_loss: 0.6415 - val_accuracy: 0.6416\n",
            "Epoch 3/60\n",
            "9/9 [==============================] - 0s 9ms/step - loss: 0.6211 - accuracy: 0.6467 - val_loss: 0.6171 - val_accuracy: 0.6618\n",
            "Epoch 4/60\n",
            "9/9 [==============================] - 0s 14ms/step - loss: 0.6155 - accuracy: 0.6776 - val_loss: 0.6032 - val_accuracy: 0.6590\n",
            "Epoch 5/60\n",
            "9/9 [==============================] - 0s 8ms/step - loss: 0.5904 - accuracy: 0.6892 - val_loss: 0.5870 - val_accuracy: 0.6676\n",
            "Epoch 6/60\n",
            "9/9 [==============================] - 0s 8ms/step - loss: 0.5597 - accuracy: 0.7297 - val_loss: 0.6105 - val_accuracy: 0.6908\n",
            "Epoch 7/60\n",
            "9/9 [==============================] - 0s 8ms/step - loss: 0.5745 - accuracy: 0.7027 - val_loss: 0.5941 - val_accuracy: 0.6647\n",
            "Epoch 8/60\n",
            "9/9 [==============================] - 0s 9ms/step - loss: 0.6128 - accuracy: 0.6795 - val_loss: 0.6112 - val_accuracy: 0.6821\n",
            "Epoch 9/60\n",
            "9/9 [==============================] - 0s 9ms/step - loss: 0.5769 - accuracy: 0.6873 - val_loss: 0.5960 - val_accuracy: 0.7023\n",
            "Epoch 10/60\n",
            "9/9 [==============================] - 0s 8ms/step - loss: 0.5535 - accuracy: 0.7162 - val_loss: 0.5753 - val_accuracy: 0.6676\n",
            "Epoch 11/60\n",
            "9/9 [==============================] - 0s 9ms/step - loss: 0.5528 - accuracy: 0.7278 - val_loss: 0.5820 - val_accuracy: 0.7110\n",
            "Epoch 12/60\n",
            "9/9 [==============================] - 0s 9ms/step - loss: 0.5518 - accuracy: 0.7201 - val_loss: 0.5673 - val_accuracy: 0.6850\n",
            "Epoch 13/60\n",
            "9/9 [==============================] - 0s 9ms/step - loss: 0.5225 - accuracy: 0.7452 - val_loss: 0.5812 - val_accuracy: 0.7139\n",
            "Epoch 14/60\n",
            "9/9 [==============================] - 0s 8ms/step - loss: 0.5246 - accuracy: 0.7317 - val_loss: 0.5712 - val_accuracy: 0.6763\n",
            "Epoch 15/60\n",
            "9/9 [==============================] - 0s 9ms/step - loss: 0.5417 - accuracy: 0.7124 - val_loss: 0.5759 - val_accuracy: 0.6734\n",
            "Epoch 16/60\n",
            "9/9 [==============================] - 0s 9ms/step - loss: 0.5520 - accuracy: 0.7124 - val_loss: 0.5854 - val_accuracy: 0.6965\n",
            "Epoch 17/60\n",
            "9/9 [==============================] - 0s 8ms/step - loss: 0.5350 - accuracy: 0.7278 - val_loss: 0.5678 - val_accuracy: 0.6994\n",
            "Epoch 18/60\n",
            "9/9 [==============================] - 0s 8ms/step - loss: 0.5309 - accuracy: 0.7317 - val_loss: 0.5752 - val_accuracy: 0.7139\n",
            "Epoch 19/60\n",
            "9/9 [==============================] - 0s 8ms/step - loss: 0.5175 - accuracy: 0.7336 - val_loss: 0.5641 - val_accuracy: 0.6734\n",
            "Epoch 20/60\n",
            "9/9 [==============================] - 0s 9ms/step - loss: 0.5185 - accuracy: 0.7375 - val_loss: 0.5591 - val_accuracy: 0.7110\n",
            "Epoch 21/60\n",
            "9/9 [==============================] - 0s 8ms/step - loss: 0.5218 - accuracy: 0.7490 - val_loss: 0.5514 - val_accuracy: 0.7023\n",
            "Epoch 22/60\n",
            "9/9 [==============================] - 0s 9ms/step - loss: 0.5239 - accuracy: 0.7297 - val_loss: 0.5578 - val_accuracy: 0.7081\n",
            "Epoch 23/60\n",
            "9/9 [==============================] - 0s 10ms/step - loss: 0.5110 - accuracy: 0.7413 - val_loss: 0.5561 - val_accuracy: 0.7081\n",
            "Epoch 24/60\n",
            "9/9 [==============================] - 0s 8ms/step - loss: 0.5267 - accuracy: 0.7066 - val_loss: 0.5561 - val_accuracy: 0.7052\n",
            "Epoch 25/60\n",
            "9/9 [==============================] - 0s 8ms/step - loss: 0.4927 - accuracy: 0.7548 - val_loss: 0.5530 - val_accuracy: 0.6908\n",
            "Epoch 26/60\n",
            "9/9 [==============================] - 0s 9ms/step - loss: 0.5285 - accuracy: 0.7394 - val_loss: 0.5559 - val_accuracy: 0.7052\n",
            "Epoch 27/60\n",
            "9/9 [==============================] - 0s 8ms/step - loss: 0.5172 - accuracy: 0.7587 - val_loss: 0.5738 - val_accuracy: 0.6965\n",
            "Epoch 28/60\n",
            "9/9 [==============================] - 0s 8ms/step - loss: 0.5054 - accuracy: 0.7259 - val_loss: 0.5591 - val_accuracy: 0.6908\n",
            "Epoch 29/60\n",
            "9/9 [==============================] - 0s 9ms/step - loss: 0.5374 - accuracy: 0.7027 - val_loss: 0.5667 - val_accuracy: 0.7081\n",
            "Epoch 30/60\n",
            "9/9 [==============================] - 0s 8ms/step - loss: 0.4978 - accuracy: 0.7529 - val_loss: 0.5807 - val_accuracy: 0.6676\n",
            "Epoch 31/60\n",
            "9/9 [==============================] - 0s 9ms/step - loss: 0.5047 - accuracy: 0.7645 - val_loss: 0.5744 - val_accuracy: 0.6994\n",
            "Epoch 32/60\n",
            "9/9 [==============================] - 0s 8ms/step - loss: 0.5044 - accuracy: 0.7625 - val_loss: 0.5592 - val_accuracy: 0.7023\n",
            "Epoch 33/60\n",
            "9/9 [==============================] - 0s 8ms/step - loss: 0.5092 - accuracy: 0.7394 - val_loss: 0.5478 - val_accuracy: 0.7023\n",
            "Epoch 34/60\n",
            "9/9 [==============================] - 0s 8ms/step - loss: 0.4793 - accuracy: 0.7510 - val_loss: 0.5424 - val_accuracy: 0.7110\n",
            "Epoch 35/60\n",
            "9/9 [==============================] - 0s 8ms/step - loss: 0.4836 - accuracy: 0.7548 - val_loss: 0.5442 - val_accuracy: 0.7139\n",
            "Epoch 36/60\n",
            "9/9 [==============================] - 0s 8ms/step - loss: 0.4847 - accuracy: 0.7606 - val_loss: 0.5566 - val_accuracy: 0.7110\n",
            "Epoch 37/60\n",
            "9/9 [==============================] - 0s 9ms/step - loss: 0.5008 - accuracy: 0.7394 - val_loss: 0.5651 - val_accuracy: 0.6763\n",
            "Epoch 38/60\n",
            "9/9 [==============================] - 0s 8ms/step - loss: 0.5057 - accuracy: 0.7375 - val_loss: 0.5620 - val_accuracy: 0.6994\n",
            "Epoch 39/60\n",
            "9/9 [==============================] - 0s 9ms/step - loss: 0.4942 - accuracy: 0.7452 - val_loss: 0.5498 - val_accuracy: 0.7197\n",
            "Epoch 40/60\n",
            "9/9 [==============================] - 0s 9ms/step - loss: 0.4800 - accuracy: 0.7452 - val_loss: 0.5560 - val_accuracy: 0.7110\n",
            "Epoch 41/60\n",
            "9/9 [==============================] - 0s 11ms/step - loss: 0.4810 - accuracy: 0.7317 - val_loss: 0.5700 - val_accuracy: 0.7023\n",
            "Epoch 42/60\n",
            "9/9 [==============================] - 0s 8ms/step - loss: 0.4737 - accuracy: 0.7741 - val_loss: 0.5577 - val_accuracy: 0.6994\n",
            "Epoch 43/60\n",
            "9/9 [==============================] - 0s 9ms/step - loss: 0.4886 - accuracy: 0.7452 - val_loss: 0.5490 - val_accuracy: 0.6936\n",
            "Epoch 44/60\n",
            "9/9 [==============================] - 0s 8ms/step - loss: 0.4762 - accuracy: 0.7587 - val_loss: 0.5773 - val_accuracy: 0.6994\n",
            "Epoch 45/60\n",
            "9/9 [==============================] - 0s 8ms/step - loss: 0.5103 - accuracy: 0.7375 - val_loss: 0.5724 - val_accuracy: 0.7023\n",
            "Epoch 46/60\n",
            "9/9 [==============================] - 0s 9ms/step - loss: 0.5001 - accuracy: 0.7548 - val_loss: 0.5514 - val_accuracy: 0.7081\n",
            "Epoch 47/60\n",
            "9/9 [==============================] - 0s 8ms/step - loss: 0.4802 - accuracy: 0.7568 - val_loss: 0.5562 - val_accuracy: 0.7023\n",
            "Epoch 48/60\n",
            "9/9 [==============================] - 0s 9ms/step - loss: 0.4828 - accuracy: 0.7587 - val_loss: 0.5577 - val_accuracy: 0.7081\n",
            "Epoch 49/60\n",
            "9/9 [==============================] - 0s 8ms/step - loss: 0.4795 - accuracy: 0.7548 - val_loss: 0.5690 - val_accuracy: 0.7081\n",
            "Epoch 50/60\n",
            "9/9 [==============================] - 0s 8ms/step - loss: 0.4675 - accuracy: 0.7587 - val_loss: 0.5676 - val_accuracy: 0.7168\n",
            "Epoch 51/60\n",
            "9/9 [==============================] - 0s 8ms/step - loss: 0.4776 - accuracy: 0.7432 - val_loss: 0.5515 - val_accuracy: 0.7139\n",
            "Epoch 52/60\n",
            "9/9 [==============================] - 0s 9ms/step - loss: 0.4777 - accuracy: 0.7741 - val_loss: 0.5499 - val_accuracy: 0.7023\n",
            "Epoch 53/60\n",
            "9/9 [==============================] - 0s 8ms/step - loss: 0.4685 - accuracy: 0.7722 - val_loss: 0.5695 - val_accuracy: 0.7052\n",
            "Epoch 54/60\n",
            "9/9 [==============================] - 0s 9ms/step - loss: 0.4628 - accuracy: 0.7934 - val_loss: 0.5593 - val_accuracy: 0.7023\n",
            "Epoch 55/60\n",
            "9/9 [==============================] - 0s 8ms/step - loss: 0.4920 - accuracy: 0.7548 - val_loss: 0.5610 - val_accuracy: 0.6994\n",
            "Epoch 56/60\n",
            "9/9 [==============================] - 0s 8ms/step - loss: 0.4645 - accuracy: 0.7452 - val_loss: 0.5627 - val_accuracy: 0.7254\n",
            "Epoch 57/60\n",
            "9/9 [==============================] - 0s 8ms/step - loss: 0.4614 - accuracy: 0.7703 - val_loss: 0.5506 - val_accuracy: 0.7139\n",
            "Epoch 58/60\n",
            "9/9 [==============================] - 0s 9ms/step - loss: 0.4754 - accuracy: 0.7471 - val_loss: 0.5621 - val_accuracy: 0.7197\n",
            "Epoch 59/60\n",
            "9/9 [==============================] - 0s 8ms/step - loss: 0.4876 - accuracy: 0.7703 - val_loss: 0.5566 - val_accuracy: 0.7312\n",
            "Epoch 60/60\n",
            "9/9 [==============================] - 0s 9ms/step - loss: 0.4479 - accuracy: 0.7915 - val_loss: 0.5455 - val_accuracy: 0.7168\n"
          ]
        }
      ]
    },
    {
      "cell_type": "code",
      "source": [
        "# Summarizing history for accuracy\n",
        "\n",
        "plt.plot(history.history['accuracy'])\n",
        "plt.plot(history.history['val_accuracy'])\n",
        "plt.title('Model Accuracy')\n",
        "plt.ylabel('Accuracy')\n",
        "plt.xlabel('Epoch')\n",
        "plt.legend(['train', 'validation'], loc='upper left')\n",
        "plt.show()"
      ],
      "metadata": {
        "colab": {
          "base_uri": "https://localhost:8080/",
          "height": 295
        },
        "id": "Wtocqua9wjtE",
        "outputId": "90ec2651-6a8a-4726-a3c7-57afa1674931"
      },
      "execution_count": null,
      "outputs": [
        {
          "output_type": "display_data",
          "data": {
            "text/plain": [
              "<Figure size 432x288 with 1 Axes>"
            ],
            "image/png": "[encoded data removed]"
          },
          "metadata": {
            "needs_background": "light"
          }
        }
      ]
    },
    {
      "cell_type": "code",
      "source": [
        "#model.save('model_144F.h5')\n",
        "#model.save('model_50F.h5')\n",
        "#model.save('model_10F.h5')"
      ],
      "metadata": {
        "id": "1j0tLcmbmW4r"
      },
      "execution_count": null,
      "outputs": []
    },
    {
      "cell_type": "code",
      "source": [
        "model = load_model('model_144F.h5')\n",
        "#model = load_model('model_50F.h5')\n",
        "#model = load_model('model_10F.h5')"
      ],
      "metadata": {
        "id": "T74qqyeDesHd"
      },
      "execution_count": 51,
      "outputs": []
    },
    {
      "cell_type": "code",
      "source": [
        "# Building the same Neural Network but without the last layer\n",
        "\n",
        "input = tf.keras.layers.Input(shape = input_shape)\n",
        "\n",
        "x = input\n",
        "for layer in model.layers[1:-2]:\n",
        "  x = layer(x)\n",
        "\n",
        "model2 = tf.keras.Model(input, x)\n",
        "\n",
        "model2.summary()"
      ],
      "metadata": {
        "colab": {
          "base_uri": "https://localhost:8080/"
        },
        "id": "GfxOAtnDRpZe",
        "outputId": "a7d41606-dc8d-4002-e8dd-e9f9dba657f2"
      },
      "execution_count": null,
      "outputs": [
        {
          "output_type": "stream",
          "name": "stdout",
          "text": [
            "Model: \"model\"\n",
            "_________________________________________________________________\n",
            " Layer (type)                Output Shape              Param #   \n",
            "=================================================================\n",
            " input_1 (InputLayer)        [(None, 176, 2)]          0         \n",
            "                                                                 \n",
            " conv1d_16 (Conv1D)          (None, 165, 6)            150       \n",
            "                                                                 \n",
            " activation_20 (Activation)  (None, 165, 6)            0         \n",
            "                                                                 \n",
            " conv1d_17 (Conv1D)          (None, 154, 12)           876       \n",
            "                                                                 \n",
            " activation_21 (Activation)  (None, 154, 12)           0         \n",
            "                                                                 \n",
            " max_pooling1d_8 (MaxPooling  (None, 38, 12)           0         \n",
            " 1D)                                                             \n",
            "                                                                 \n",
            " dropout_8 (Dropout)         (None, 38, 12)            0         \n",
            "                                                                 \n",
            " conv1d_18 (Conv1D)          (None, 27, 24)            3480      \n",
            "                                                                 \n",
            " activation_22 (Activation)  (None, 27, 24)            0         \n",
            "                                                                 \n",
            " conv1d_19 (Conv1D)          (None, 16, 48)            13872     \n",
            "                                                                 \n",
            " activation_23 (Activation)  (None, 16, 48)            0         \n",
            "                                                                 \n",
            " max_pooling1d_9 (MaxPooling  (None, 8, 48)            0         \n",
            " 1D)                                                             \n",
            "                                                                 \n",
            " dropout_9 (Dropout)         (None, 8, 48)             0         \n",
            "                                                                 \n",
            " flatten_4 (Flatten)         (None, 384)               0         \n",
            "                                                                 \n",
            " dense_8 (Dense)             (None, 144)               55440     \n",
            "                                                                 \n",
            "=================================================================\n",
            "Total params: 73,818\n",
            "Trainable params: 73,818\n",
            "Non-trainable params: 0\n",
            "_________________________________________________________________\n"
          ]
        }
      ]
    },
    {
      "cell_type": "code",
      "source": [
        "features = []\n",
        "for i in range(len(final_data)):\n",
        "  temp = np.array(tf.squeeze(model2.predict(final_data[i][None, :])))\n",
        "  features.append(temp)\n",
        "\n",
        "features = np.array(features)"
      ],
      "metadata": {
        "id": "NXpiv6oAXX70"
      },
      "execution_count": null,
      "outputs": []
    },
    {
      "cell_type": "code",
      "source": [
        "# Note: We used tf.squeeze to remove the dimension of size 1 from the shape of the tensors\n",
        "print(model2.predict(final_data[0][None, :]).shape)\n",
        "print(features[0].shape)"
      ],
      "metadata": {
        "colab": {
          "base_uri": "https://localhost:8080/"
        },
        "id": "e4eHI7plyiJN",
        "outputId": "10ce4577-4eb5-4be6-dece-23c9738cadf4"
      },
      "execution_count": null,
      "outputs": [
        {
          "output_type": "stream",
          "name": "stdout",
          "text": [
            "(1, 144)\n",
            "(144,)\n"
          ]
        }
      ]
    },
    {
      "cell_type": "code",
      "source": [
        "df = pd.DataFrame(features)\n",
        "print(df.shape)\n",
        "\n",
        "ind_df = df.groupby(np.arange(len(df))//16).mean()\n",
        "print(ind_df.shape)\n",
        "\n",
        "ind_features = ind_df.to_numpy()"
      ],
      "metadata": {
        "id": "cXNJImz7WuTV",
        "colab": {
          "base_uri": "https://localhost:8080/"
        },
        "outputId": "2e77e092-90a3-4fad-dd46-add38b15499f"
      },
      "execution_count": null,
      "outputs": [
        {
          "output_type": "stream",
          "name": "stdout",
          "text": [
            "(864, 144)\n",
            "(54, 144)\n"
          ]
        }
      ]
    },
    {
      "cell_type": "markdown",
      "source": [
        "### Clustering"
      ],
      "metadata": {
        "id": "Bbg_aYFFAIej"
      }
    },
    {
      "cell_type": "code",
      "source": [
        "nb_clusters = 4\n",
        "\n",
        "k_means = KMeans(n_clusters=nb_clusters, n_init=10, max_iter=300)\n",
        "k_means.fit(ind_features)\n",
        "labels = k_means.labels_"
      ],
      "metadata": {
        "id": "oR9O6_pakz0O"
      },
      "execution_count": null,
      "outputs": []
    },
    {
      "cell_type": "markdown",
      "source": [
        "Separability Study"
      ],
      "metadata": {
        "id": "gY14Rvw0azg6"
      }
    },
    {
      "cell_type": "code",
      "source": [
        "#labels = labels_ce # in the case of Consensus Clustering\n",
        "\n",
        "cluster_labels = ['Cluster '+ str(i+1) for i in labels]\n",
        "str_targets = ['Alzheimer' if i==1 else 'Control' for i in targets]\n",
        "\n",
        "groups=[]\n",
        "clusters=[]\n",
        "\n",
        "for i in np.unique(labels).astype(int):\n",
        "  groups.append(np.where(labels==i)[0]) \n",
        "  clusters.append(ids[groups[i]])\n",
        "\n",
        "ids_targets = {}\n",
        "for id, target in zip(ids, targets):\n",
        "    ids_targets[id] = target\n",
        "\n",
        "cluster_targets =[]\n",
        "for cluster in clusters:\n",
        "  cluster_target = []\n",
        "  for ind in cluster: \n",
        "     cluster_target.append(ids_targets[ind])\n",
        "  cluster_targets.append(cluster_target)\n",
        "\n",
        "l0_percents = []\n",
        "l1_percents = []\n",
        "cluster_sizes = []\n",
        "\n",
        "for cluster_target in cluster_targets:\n",
        "  l0_percent = round(cluster_target.count(0)/len(cluster_target),3)\n",
        "  l1_percent = round(cluster_target.count(1)/len(cluster_target),3)\n",
        "  cluster_sizes.append(len(cluster_target))\n",
        "  l0_percents.append(l0_percent)\n",
        "  l1_percents.append(l1_percent)\n",
        "\n",
        "l0_percents = [\"{0:.0%}\".format(i) for i in l0_percents]\n",
        "l1_percents = [\"{0:.0%}\".format(i) for i in l1_percents]\n"
      ],
      "metadata": {
        "id": "Wi8qCu2RAzw8"
      },
      "execution_count": null,
      "outputs": []
    },
    {
      "cell_type": "code",
      "source": [
        "nb_clusters = len(clusters)\n",
        "\n",
        "sep_df = pd.DataFrame([l0_percents, l1_percents, cluster_sizes],\n",
        "                      index= ['Control', 'Alzheimer', 'Size'],\n",
        "                      columns= 'Cluster ' + pd.RangeIndex(start=1, stop=nb_clusters+1, step=1).astype('string'))\n",
        "\n",
        "sep_df=sep_df.T\n",
        "sep_df['Size'] = sep_df['Size'].astype('int')\n",
        "sep_df"
      ],
      "metadata": {
        "colab": {
          "base_uri": "https://localhost:8080/",
          "height": 175
        },
        "id": "HDOUBz-sA1si",
        "outputId": "21a97a71-93f8-4847-b37b-4ddaa49ba7d9"
      },
      "execution_count": null,
      "outputs": [
        {
          "output_type": "execute_result",
          "data": {
            "text/plain": [
              "          Control Alzheimer  Size\n",
              "Cluster 1     96%        4%    22\n",
              "Cluster 2     19%       81%    16\n",
              "Cluster 3    100%        0%     3\n",
              "Cluster 4      0%      100%    13"
            ],
            "text/html": [
              "\n",
              "  <div id=\"df-93a94376-5854-46e3-b161-dd4fff679df4\">\n",
              "    <div class=\"colab-df-container\">\n",
              "      <div>\n",
              "<style scoped>\n",
              "    .dataframe tbody tr th:only-of-type {\n",
              "        vertical-align: middle;\n",
              "    }\n",
              "\n",
              "    .dataframe tbody tr th {\n",
              "        vertical-align: top;\n",
              "    }\n",
              "\n",
              "    .dataframe thead th {\n",
              "        text-align: right;\n",
              "    }\n",
              "</style>\n",
              "<table border=\"1\" class=\"dataframe\">\n",
              "  <thead>\n",
              "    <tr style=\"text-align: right;\">\n",
              "      <th></th>\n",
              "      <th>Control</th>\n",
              "      <th>Alzheimer</th>\n",
              "      <th>Size</th>\n",
              "    </tr>\n",
              "  </thead>\n",
              "  <tbody>\n",
              "    <tr>\n",
              "      <th>Cluster 1</th>\n",
              "      <td>96%</td>\n",
              "      <td>4%</td>\n",
              "      <td>22</td>\n",
              "    </tr>\n",
              "    <tr>\n",
              "      <th>Cluster 2</th>\n",
              "      <td>19%</td>\n",
              "      <td>81%</td>\n",
              "      <td>16</td>\n",
              "    </tr>\n",
              "    <tr>\n",
              "      <th>Cluster 3</th>\n",
              "      <td>100%</td>\n",
              "      <td>0%</td>\n",
              "      <td>3</td>\n",
              "    </tr>\n",
              "    <tr>\n",
              "      <th>Cluster 4</th>\n",
              "      <td>0%</td>\n",
              "      <td>100%</td>\n",
              "      <td>13</td>\n",
              "    </tr>\n",
              "  </tbody>\n",
              "</table>\n",
              "</div>\n",
              "      <button class=\"colab-df-convert\" onclick=\"convertToInteractive('df-93a94376-5854-46e3-b161-dd4fff679df4')\"\n",
              "              title=\"Convert this dataframe to an interactive table.\"\n",
              "              style=\"display:none;\">\n",
              "        \n",
              "  <svg xmlns=\"http://www.w3.org/2000/svg\" height=\"24px\"viewBox=\"0 0 24 24\"\n",
              "       width=\"24px\">\n",
              "    <path d=\"M0 0h24v24H0V0z\" fill=\"none\"/>\n",
              "    <path d=\"M18.56 5.44l.94 2.06.94-2.06 2.06-.94-2.06-.94-.94-2.06-.94 2.06-2.06.94zm-11 1L8.5 8.5l.94-2.06 2.06-.94-2.06-.94L8.5 2.5l-.94 2.06-2.06.94zm10 10l.94 2.06.94-2.06 2.06-.94-2.06-.94-.94-2.06-.94 2.06-2.06.94z\"/><path d=\"M17.41 7.96l-1.37-1.37c-.4-.4-.92-.59-1.43-.59-.52 0-1.04.2-1.43.59L10.3 9.45l-7.72 7.72c-.78.78-.78 2.05 0 2.83L4 21.41c.39.39.9.59 1.41.59.51 0 1.02-.2 1.41-.59l7.78-7.78 2.81-2.81c.8-.78.8-2.07 0-2.86zM5.41 20L4 18.59l7.72-7.72 1.47 1.35L5.41 20z\"/>\n",
              "  </svg>\n",
              "      </button>\n",
              "      \n",
              "  <style>\n",
              "    .colab-df-container {\n",
              "      display:flex;\n",
              "      flex-wrap:wrap;\n",
              "      gap: 12px;\n",
              "    }\n",
              "\n",
              "    .colab-df-convert {\n",
              "      background-color: #E8F0FE;\n",
              "      border: none;\n",
              "      border-radius: 50%;\n",
              "      cursor: pointer;\n",
              "      display: none;\n",
              "      fill: #1967D2;\n",
              "      height: 32px;\n",
              "      padding: 0 0 0 0;\n",
              "      width: 32px;\n",
              "    }\n",
              "\n",
              "    .colab-df-convert:hover {\n",
              "      background-color: #E2EBFA;\n",
              "      box-shadow: 0px 1px 2px rgba(60, 64, 67, 0.3), 0px 1px 3px 1px rgba(60, 64, 67, 0.15);\n",
              "      fill: #174EA6;\n",
              "    }\n",
              "\n",
              "    [theme=dark] .colab-df-convert {\n",
              "      background-color: #3B4455;\n",
              "      fill: #D2E3FC;\n",
              "    }\n",
              "\n",
              "    [theme=dark] .colab-df-convert:hover {\n",
              "      background-color: #434B5C;\n",
              "      box-shadow: 0px 1px 3px 1px rgba(0, 0, 0, 0.15);\n",
              "      filter: drop-shadow(0px 1px 2px rgba(0, 0, 0, 0.3));\n",
              "      fill: #FFFFFF;\n",
              "    }\n",
              "  </style>\n",
              "\n",
              "      <script>\n",
              "        const buttonEl =\n",
              "          document.querySelector('#df-93a94376-5854-46e3-b161-dd4fff679df4 button.colab-df-convert');\n",
              "        buttonEl.style.display =\n",
              "          google.colab.kernel.accessAllowed ? 'block' : 'none';\n",
              "\n",
              "        async function convertToInteractive(key) {\n",
              "          const element = document.querySelector('#df-93a94376-5854-46e3-b161-dd4fff679df4');\n",
              "          const dataTable =\n",
              "            await google.colab.kernel.invokeFunction('convertToInteractive',\n",
              "                                                     [key], {});\n",
              "          if (!dataTable) return;\n",
              "\n",
              "          const docLinkHtml = 'Like what you see? Visit the ' +\n",
              "            '<a target=\"_blank\" href=https://colab.research.google.com/notebooks/data_table.ipynb>data table notebook</a>'\n",
              "            + ' to learn more about interactive tables.';\n",
              "          element.innerHTML = '';\n",
              "          dataTable['output_type'] = 'display_data';\n",
              "          await google.colab.output.renderOutput(dataTable, element);\n",
              "          const docLink = document.createElement('div');\n",
              "          docLink.innerHTML = docLinkHtml;\n",
              "          element.appendChild(docLink);\n",
              "        }\n",
              "      </script>\n",
              "    </div>\n",
              "  </div>\n",
              "  "
            ]
          },
          "metadata": {},
          "execution_count": 42
        }
      ]
    },
    {
      "cell_type": "markdown",
      "source": [
        "Data Visualization"
      ],
      "metadata": {
        "id": "0B40BBRyToXc"
      }
    },
    {
      "cell_type": "code",
      "source": [
        "#T-SNE with 2 dimensions\n",
        "\n",
        "warnings.filterwarnings(\"ignore\")\n",
        "\n",
        "perplexity = 10\n",
        "tsne_2d = TSNE(n_components=2, perplexity=perplexity, random_state=1)\n",
        "TCs_2d = pd.DataFrame(tsne_2d.fit_transform(ind_df))\n",
        "TCs_2d.columns = [\"TC1_2d\",\"TC2_2d\"]\n",
        "\n",
        "fig = px.scatter(TCs_2d, \n",
        "                 x=\"TC1_2d\", \n",
        "                 y=\"TC2_2d\", \n",
        "                 color=cluster_labels, \n",
        "                 symbol=str_targets, \n",
        "                 symbol_sequence= ['cross', 'circle'],\n",
        "                 width=700, height=500, \n",
        "                 labels={\"TC1_2d\": \"TC1\",\n",
        "                         \"TC2_2d\": \"TC2\",\n",
        "                         \"symbol\": \"Label\",\n",
        "                         \"color\": \"Cluster\"})\n",
        "\n",
        "fig.update_layout({'plot_bgcolor': 'rgba(0, 100, 255, 0.05)'}, showlegend=False)\n",
        "fig.update_traces(marker=dict(size=10, line=dict(width=1, color='DarkSlateGrey')), selector=dict(mode='markers'))\n",
        "fig.show()"
      ],
      "metadata": {
        "colab": {
          "base_uri": "https://localhost:8080/",
          "height": 517
        },
        "id": "PlD4Nruo8zYB",
        "outputId": "35db1798-cf82-44d8-c56c-7fa1b88df0d6"
      },
      "execution_count": null,
      "outputs": [
        {
          "output_type": "display_data",
          "data": {
            "text/html": [
              "<html>\n",
              "<head><meta charset=\"utf-8\" /></head>\n",
              "<body>\n",
              "    <div>            <script src=\"https://cdnjs.cloudflare.com/ajax/libs/mathjax/2.7.5/MathJax.js?config=TeX-AMS-MML_SVG\"></script><script type=\"text/javascript\">if (window.MathJax) {MathJax.Hub.Config({SVG: {font: \"STIX-Web\"}});}</script>                <script type=\"text/javascript\">window.PlotlyConfig = {MathJaxConfig: 'local'};</script>\n",
              "        <script src=\"https://cdn.plot.ly/plotly-2.8.3.min.js\"></script>                <div id=\"ed81abec-f39a-41ae-bba4-ad8563f92205\" class=\"plotly-graph-div\" style=\"height:500px; width:700px;\"></div>            <script type=\"text/javascript\">                                    window.PLOTLYENV=window.PLOTLYENV || {};                                    if (document.getElementById(\"ed81abec-f39a-41ae-bba4-ad8563f92205\")) {                    Plotly.newPlot(                        \"ed81abec-f39a-41ae-bba4-ad8563f92205\",                        [{\"hovertemplate\":\"Cluster=Cluster 2<br>Label=Alzheimer<br>TC1=%{x}<br>TC2=%{y}<extra></extra>\",\"legendgroup\":\"Cluster 2, Alzheimer\",\"marker\":{\"color\":\"#636efa\",\"symbol\":\"cross\",\"line\":{\"color\":\"DarkSlateGrey\",\"width\":1},\"size\":10},\"mode\":\"markers\",\"name\":\"Cluster 2, Alzheimer\",\"orientation\":\"v\",\"showlegend\":true,\"x\":[-29.371599197387695,-35.341888427734375,-35.86439514160156,-14.503157615661621,-18.419645309448242,-45.62891387939453,-42.75881576538086,-13.704062461853027,-30.05872917175293,-29.085424423217773,-20.629337310791016,-24.509939193725586,-5.772818088531494],\"xaxis\":\"x\",\"y\":[-5.8953423500061035,-40.709861755371094,-33.87036895751953,4.527656078338623,-16.49395751953125,-39.23441696166992,-31.37067413330078,-7.480323791503906,-34.66462707519531,-24.118030548095703,-7.903957366943359,-18.76272964477539,7.511842250823975],\"yaxis\":\"y\",\"type\":\"scatter\"},{\"hovertemplate\":\"Cluster=Cluster 2<br>Label=Control<br>TC1=%{x}<br>TC2=%{y}<extra></extra>\",\"legendgroup\":\"Cluster 2, Control\",\"marker\":{\"color\":\"#636efa\",\"symbol\":\"circle\",\"line\":{\"color\":\"DarkSlateGrey\",\"width\":1},\"size\":10},\"mode\":\"markers\",\"name\":\"Cluster 2, Control\",\"orientation\":\"v\",\"showlegend\":true,\"x\":[1.0606989860534668,-10.534168243408203,-18.10065269470215],\"xaxis\":\"x\",\"y\":[-1.107314944267273,-0.8999549150466919,-1.4738385677337646],\"yaxis\":\"y\",\"type\":\"scatter\"},{\"hovertemplate\":\"Cluster=Cluster 3<br>Label=Control<br>TC1=%{x}<br>TC2=%{y}<extra></extra>\",\"legendgroup\":\"Cluster 3, Control\",\"marker\":{\"color\":\"#EF553B\",\"symbol\":\"circle\",\"line\":{\"color\":\"DarkSlateGrey\",\"width\":1},\"size\":10},\"mode\":\"markers\",\"name\":\"Cluster 3, Control\",\"orientation\":\"v\",\"showlegend\":true,\"x\":[43.11589813232422,45.60503387451172,42.50996398925781],\"xaxis\":\"x\",\"y\":[76.27108764648438,70.94087219238281,63.21244430541992],\"yaxis\":\"y\",\"type\":\"scatter\"},{\"hovertemplate\":\"Cluster=Cluster 1<br>Label=Alzheimer<br>TC1=%{x}<br>TC2=%{y}<extra></extra>\",\"legendgroup\":\"Cluster 1, Alzheimer\",\"marker\":{\"color\":\"#00cc96\",\"symbol\":\"cross\",\"line\":{\"color\":\"DarkSlateGrey\",\"width\":1},\"size\":10},\"mode\":\"markers\",\"name\":\"Cluster 1, Alzheimer\",\"orientation\":\"v\",\"showlegend\":true,\"x\":[0.12500037252902985],\"xaxis\":\"x\",\"y\":[10.513935089111328],\"yaxis\":\"y\",\"type\":\"scatter\"},{\"hovertemplate\":\"Cluster=Cluster 1<br>Label=Control<br>TC1=%{x}<br>TC2=%{y}<extra></extra>\",\"legendgroup\":\"Cluster 1, Control\",\"marker\":{\"color\":\"#00cc96\",\"symbol\":\"circle\",\"line\":{\"color\":\"DarkSlateGrey\",\"width\":1},\"size\":10},\"mode\":\"markers\",\"name\":\"Cluster 1, Control\",\"orientation\":\"v\",\"showlegend\":true,\"x\":[30.169307708740234,17.89747428894043,28.494443893432617,15.00947380065918,21.900089263916016,35.846927642822266,21.955707550048828,2.942412853240967,21.120561599731445,-1.4489461183547974,12.858320236206055,-0.027982104569673538,6.1789231300354,29.82231903076172,24.611387252807617,36.17936325073242,11.887084007263184,4.366137981414795,18.724994659423828,-4.3945112228393555,-1.328705906867981],\"xaxis\":\"x\",\"y\":[56.78679656982422,64.96439361572266,43.53291320800781,69.91461944580078,42.1918830871582,60.3792839050293,70.37510681152344,19.636634826660156,35.92252731323242,42.705013275146484,45.28760528564453,25.196971893310547,29.469783782958984,64.35292053222656,48.44797134399414,53.864593505859375,32.94047164916992,39.29736328125,78.03809356689453,17.537424087524414,36.14139938354492],\"yaxis\":\"y\",\"type\":\"scatter\"},{\"hovertemplate\":\"Cluster=Cluster 4<br>Label=Alzheimer<br>TC1=%{x}<br>TC2=%{y}<extra></extra>\",\"legendgroup\":\"Cluster 4, Alzheimer\",\"marker\":{\"color\":\"#ab63fa\",\"symbol\":\"cross\",\"line\":{\"color\":\"DarkSlateGrey\",\"width\":1},\"size\":10},\"mode\":\"markers\",\"name\":\"Cluster 4, Alzheimer\",\"orientation\":\"v\",\"showlegend\":true,\"x\":[-53.0019416809082,-62.035213470458984,-50.95219802856445,-48.36955642700195,-51.06899642944336,-55.36780548095703,-46.64690017700195,-53.705780029296875,-61.55173873901367,-45.226905822753906,-40.79758071899414,-60.383113861083984,-51.49298095703125],\"xaxis\":\"x\",\"y\":[-61.713260650634766,-85.22903442382812,-68.61470794677734,-75.43388366699219,-55.08031463623047,-73.8057861328125,-50.33268356323242,-80.89665222167969,-77.12147521972656,-62.24936294555664,-54.558589935302734,-67.39701843261719,-45.92094039916992],\"yaxis\":\"y\",\"type\":\"scatter\"}],                        {\"template\":{\"data\":{\"bar\":[{\"error_x\":{\"color\":\"#2a3f5f\"},\"error_y\":{\"color\":\"#2a3f5f\"},\"marker\":{\"line\":{\"color\":\"#E5ECF6\",\"width\":0.5},\"pattern\":{\"fillmode\":\"overlay\",\"size\":10,\"solidity\":0.2}},\"type\":\"bar\"}],\"barpolar\":[{\"marker\":{\"line\":{\"color\":\"#E5ECF6\",\"width\":0.5},\"pattern\":{\"fillmode\":\"overlay\",\"size\":10,\"solidity\":0.2}},\"type\":\"barpolar\"}],\"carpet\":[{\"aaxis\":{\"endlinecolor\":\"#2a3f5f\",\"gridcolor\":\"white\",\"linecolor\":\"white\",\"minorgridcolor\":\"white\",\"startlinecolor\":\"#2a3f5f\"},\"baxis\":{\"endlinecolor\":\"#2a3f5f\",\"gridcolor\":\"white\",\"linecolor\":\"white\",\"minorgridcolor\":\"white\",\"startlinecolor\":\"#2a3f5f\"},\"type\":\"carpet\"}],\"choropleth\":[{\"colorbar\":{\"outlinewidth\":0,\"ticks\":\"\"},\"type\":\"choropleth\"}],\"contour\":[{\"colorbar\":{\"outlinewidth\":0,\"ticks\":\"\"},\"colorscale\":[[0.0,\"#0d0887\"],[0.1111111111111111,\"#46039f\"],[0.2222222222222222,\"#7201a8\"],[0.3333333333333333,\"#9c179e\"],[0.4444444444444444,\"#bd3786\"],[0.5555555555555556,\"#d8576b\"],[0.6666666666666666,\"#ed7953\"],[0.7777777777777778,\"#fb9f3a\"],[0.8888888888888888,\"#fdca26\"],[1.0,\"#f0f921\"]],\"type\":\"contour\"}],\"contourcarpet\":[{\"colorbar\":{\"outlinewidth\":0,\"ticks\":\"\"},\"type\":\"contourcarpet\"}],\"heatmap\":[{\"colorbar\":{\"outlinewidth\":0,\"ticks\":\"\"},\"colorscale\":[[0.0,\"#0d0887\"],[0.1111111111111111,\"#46039f\"],[0.2222222222222222,\"#7201a8\"],[0.3333333333333333,\"#9c179e\"],[0.4444444444444444,\"#bd3786\"],[0.5555555555555556,\"#d8576b\"],[0.6666666666666666,\"#ed7953\"],[0.7777777777777778,\"#fb9f3a\"],[0.8888888888888888,\"#fdca26\"],[1.0,\"#f0f921\"]],\"type\":\"heatmap\"}],\"heatmapgl\":[{\"colorbar\":{\"outlinewidth\":0,\"ticks\":\"\"},\"colorscale\":[[0.0,\"#0d0887\"],[0.1111111111111111,\"#46039f\"],[0.2222222222222222,\"#7201a8\"],[0.3333333333333333,\"#9c179e\"],[0.4444444444444444,\"#bd3786\"],[0.5555555555555556,\"#d8576b\"],[0.6666666666666666,\"#ed7953\"],[0.7777777777777778,\"#fb9f3a\"],[0.8888888888888888,\"#fdca26\"],[1.0,\"#f0f921\"]],\"type\":\"heatmapgl\"}],\"histogram\":[{\"marker\":{\"pattern\":{\"fillmode\":\"overlay\",\"size\":10,\"solidity\":0.2}},\"type\":\"histogram\"}],\"histogram2d\":[{\"colorbar\":{\"outlinewidth\":0,\"ticks\":\"\"},\"colorscale\":[[0.0,\"#0d0887\"],[0.1111111111111111,\"#46039f\"],[0.2222222222222222,\"#7201a8\"],[0.3333333333333333,\"#9c179e\"],[0.4444444444444444,\"#bd3786\"],[0.5555555555555556,\"#d8576b\"],[0.6666666666666666,\"#ed7953\"],[0.7777777777777778,\"#fb9f3a\"],[0.8888888888888888,\"#fdca26\"],[1.0,\"#f0f921\"]],\"type\":\"histogram2d\"}],\"histogram2dcontour\":[{\"colorbar\":{\"outlinewidth\":0,\"ticks\":\"\"},\"colorscale\":[[0.0,\"#0d0887\"],[0.1111111111111111,\"#46039f\"],[0.2222222222222222,\"#7201a8\"],[0.3333333333333333,\"#9c179e\"],[0.4444444444444444,\"#bd3786\"],[0.5555555555555556,\"#d8576b\"],[0.6666666666666666,\"#ed7953\"],[0.7777777777777778,\"#fb9f3a\"],[0.8888888888888888,\"#fdca26\"],[1.0,\"#f0f921\"]],\"type\":\"histogram2dcontour\"}],\"mesh3d\":[{\"colorbar\":{\"outlinewidth\":0,\"ticks\":\"\"},\"type\":\"mesh3d\"}],\"parcoords\":[{\"line\":{\"colorbar\":{\"outlinewidth\":0,\"ticks\":\"\"}},\"type\":\"parcoords\"}],\"pie\":[{\"automargin\":true,\"type\":\"pie\"}],\"scatter\":[{\"marker\":{\"colorbar\":{\"outlinewidth\":0,\"ticks\":\"\"}},\"type\":\"scatter\"}],\"scatter3d\":[{\"line\":{\"colorbar\":{\"outlinewidth\":0,\"ticks\":\"\"}},\"marker\":{\"colorbar\":{\"outlinewidth\":0,\"ticks\":\"\"}},\"type\":\"scatter3d\"}],\"scattercarpet\":[{\"marker\":{\"colorbar\":{\"outlinewidth\":0,\"ticks\":\"\"}},\"type\":\"scattercarpet\"}],\"scattergeo\":[{\"marker\":{\"colorbar\":{\"outlinewidth\":0,\"ticks\":\"\"}},\"type\":\"scattergeo\"}],\"scattergl\":[{\"marker\":{\"colorbar\":{\"outlinewidth\":0,\"ticks\":\"\"}},\"type\":\"scattergl\"}],\"scattermapbox\":[{\"marker\":{\"colorbar\":{\"outlinewidth\":0,\"ticks\":\"\"}},\"type\":\"scattermapbox\"}],\"scatterpolar\":[{\"marker\":{\"colorbar\":{\"outlinewidth\":0,\"ticks\":\"\"}},\"type\":\"scatterpolar\"}],\"scatterpolargl\":[{\"marker\":{\"colorbar\":{\"outlinewidth\":0,\"ticks\":\"\"}},\"type\":\"scatterpolargl\"}],\"scatterternary\":[{\"marker\":{\"colorbar\":{\"outlinewidth\":0,\"ticks\":\"\"}},\"type\":\"scatterternary\"}],\"surface\":[{\"colorbar\":{\"outlinewidth\":0,\"ticks\":\"\"},\"colorscale\":[[0.0,\"#0d0887\"],[0.1111111111111111,\"#46039f\"],[0.2222222222222222,\"#7201a8\"],[0.3333333333333333,\"#9c179e\"],[0.4444444444444444,\"#bd3786\"],[0.5555555555555556,\"#d8576b\"],[0.6666666666666666,\"#ed7953\"],[0.7777777777777778,\"#fb9f3a\"],[0.8888888888888888,\"#fdca26\"],[1.0,\"#f0f921\"]],\"type\":\"surface\"}],\"table\":[{\"cells\":{\"fill\":{\"color\":\"#EBF0F8\"},\"line\":{\"color\":\"white\"}},\"header\":{\"fill\":{\"color\":\"#C8D4E3\"},\"line\":{\"color\":\"white\"}},\"type\":\"table\"}]},\"layout\":{\"annotationdefaults\":{\"arrowcolor\":\"#2a3f5f\",\"arrowhead\":0,\"arrowwidth\":1},\"autotypenumbers\":\"strict\",\"coloraxis\":{\"colorbar\":{\"outlinewidth\":0,\"ticks\":\"\"}},\"colorscale\":{\"diverging\":[[0,\"#8e0152\"],[0.1,\"#c51b7d\"],[0.2,\"#de77ae\"],[0.3,\"#f1b6da\"],[0.4,\"#fde0ef\"],[0.5,\"#f7f7f7\"],[0.6,\"#e6f5d0\"],[0.7,\"#b8e186\"],[0.8,\"#7fbc41\"],[0.9,\"#4d9221\"],[1,\"#276419\"]],\"sequential\":[[0.0,\"#0d0887\"],[0.1111111111111111,\"#46039f\"],[0.2222222222222222,\"#7201a8\"],[0.3333333333333333,\"#9c179e\"],[0.4444444444444444,\"#bd3786\"],[0.5555555555555556,\"#d8576b\"],[0.6666666666666666,\"#ed7953\"],[0.7777777777777778,\"#fb9f3a\"],[0.8888888888888888,\"#fdca26\"],[1.0,\"#f0f921\"]],\"sequentialminus\":[[0.0,\"#0d0887\"],[0.1111111111111111,\"#46039f\"],[0.2222222222222222,\"#7201a8\"],[0.3333333333333333,\"#9c179e\"],[0.4444444444444444,\"#bd3786\"],[0.5555555555555556,\"#d8576b\"],[0.6666666666666666,\"#ed7953\"],[0.7777777777777778,\"#fb9f3a\"],[0.8888888888888888,\"#fdca26\"],[1.0,\"#f0f921\"]]},\"colorway\":[\"#636efa\",\"#EF553B\",\"#00cc96\",\"#ab63fa\",\"#FFA15A\",\"#19d3f3\",\"#FF6692\",\"#B6E880\",\"#FF97FF\",\"#FECB52\"],\"font\":{\"color\":\"#2a3f5f\"},\"geo\":{\"bgcolor\":\"white\",\"lakecolor\":\"white\",\"landcolor\":\"#E5ECF6\",\"showlakes\":true,\"showland\":true,\"subunitcolor\":\"white\"},\"hoverlabel\":{\"align\":\"left\"},\"hovermode\":\"closest\",\"mapbox\":{\"style\":\"light\"},\"paper_bgcolor\":\"white\",\"plot_bgcolor\":\"#E5ECF6\",\"polar\":{\"angularaxis\":{\"gridcolor\":\"white\",\"linecolor\":\"white\",\"ticks\":\"\"},\"bgcolor\":\"#E5ECF6\",\"radialaxis\":{\"gridcolor\":\"white\",\"linecolor\":\"white\",\"ticks\":\"\"}},\"scene\":{\"xaxis\":{\"backgroundcolor\":\"#E5ECF6\",\"gridcolor\":\"white\",\"gridwidth\":2,\"linecolor\":\"white\",\"showbackground\":true,\"ticks\":\"\",\"zerolinecolor\":\"white\"},\"yaxis\":{\"backgroundcolor\":\"#E5ECF6\",\"gridcolor\":\"white\",\"gridwidth\":2,\"linecolor\":\"white\",\"showbackground\":true,\"ticks\":\"\",\"zerolinecolor\":\"white\"},\"zaxis\":{\"backgroundcolor\":\"#E5ECF6\",\"gridcolor\":\"white\",\"gridwidth\":2,\"linecolor\":\"white\",\"showbackground\":true,\"ticks\":\"\",\"zerolinecolor\":\"white\"}},\"shapedefaults\":{\"line\":{\"color\":\"#2a3f5f\"}},\"ternary\":{\"aaxis\":{\"gridcolor\":\"white\",\"linecolor\":\"white\",\"ticks\":\"\"},\"baxis\":{\"gridcolor\":\"white\",\"linecolor\":\"white\",\"ticks\":\"\"},\"bgcolor\":\"#E5ECF6\",\"caxis\":{\"gridcolor\":\"white\",\"linecolor\":\"white\",\"ticks\":\"\"}},\"title\":{\"x\":0.05},\"xaxis\":{\"automargin\":true,\"gridcolor\":\"white\",\"linecolor\":\"white\",\"ticks\":\"\",\"title\":{\"standoff\":15},\"zerolinecolor\":\"white\",\"zerolinewidth\":2},\"yaxis\":{\"automargin\":true,\"gridcolor\":\"white\",\"linecolor\":\"white\",\"ticks\":\"\",\"title\":{\"standoff\":15},\"zerolinecolor\":\"white\",\"zerolinewidth\":2}}},\"xaxis\":{\"anchor\":\"y\",\"domain\":[0.0,1.0],\"title\":{\"text\":\"TC1\"}},\"yaxis\":{\"anchor\":\"x\",\"domain\":[0.0,1.0],\"title\":{\"text\":\"TC2\"}},\"legend\":{\"title\":{\"text\":\"Cluster, Label\"},\"tracegroupgap\":0},\"margin\":{\"t\":60},\"height\":500,\"width\":700,\"plot_bgcolor\":\"rgba(0, 100, 255, 0.05)\",\"showlegend\":false},                        {\"responsive\": true}                    ).then(function(){\n",
              "                            \n",
              "var gd = document.getElementById('ed81abec-f39a-41ae-bba4-ad8563f92205');\n",
              "var x = new MutationObserver(function (mutations, observer) {{\n",
              "        var display = window.getComputedStyle(gd).display;\n",
              "        if (!display || display === 'none') {{\n",
              "            console.log([gd, 'removed!']);\n",
              "            Plotly.purge(gd);\n",
              "            observer.disconnect();\n",
              "        }}\n",
              "}});\n",
              "\n",
              "// Listen for the removal of the full notebook cells\n",
              "var notebookContainer = gd.closest('#notebook-container');\n",
              "if (notebookContainer) {{\n",
              "    x.observe(notebookContainer, {childList: true});\n",
              "}}\n",
              "\n",
              "// Listen for the clearing of the current output cell\n",
              "var outputEl = gd.closest('.output');\n",
              "if (outputEl) {{\n",
              "    x.observe(outputEl, {childList: true});\n",
              "}}\n",
              "\n",
              "                        })                };                            </script>        </div>\n",
              "</body>\n",
              "</html>"
            ]
          },
          "metadata": {}
        }
      ]
    },
    {
      "cell_type": "code",
      "source": [
        "#PCA with 2 principal components\n",
        "\n",
        "pca_2d = PCA(n_components=2)\n",
        "\n",
        "PCs_2d = pd.DataFrame(pca_2d.fit_transform(ind_df))\n",
        "PCs_2d.columns = [\"PC1_2d\", \"PC2_2d\"]\n",
        "\n",
        "fig = px.scatter(PCs_2d, \n",
        "                 x=\"PC1_2d\", \n",
        "                 y=\"PC2_2d\", \n",
        "                 color=cluster_labels, \n",
        "                 symbol=str_targets, \n",
        "                 symbol_sequence= ['cross', 'circle'],\n",
        "                 width=800, height=500, \n",
        "                 labels={\"PC1_2d\": \"PC1\",\n",
        "                         \"PC2_2d\": \"PC2\",\n",
        "                         \"symbol\": \"Label\",\n",
        "                         \"color\": \"Cluster\"})\n",
        "                                                                            \n",
        "fig.update_layout({'plot_bgcolor': 'rgba(0, 100, 255, 0.05)'}, showlegend=False)\n",
        "fig.update_traces(marker=dict(size=10, line=dict(width=1, color='DarkSlateGrey')), selector=dict(mode='markers'))\n",
        "fig.show()"
      ],
      "metadata": {
        "colab": {
          "base_uri": "https://localhost:8080/",
          "height": 517
        },
        "id": "v9B5fdm3s3Jm",
        "outputId": "30c4ce14-c950-48f5-d3bd-edd3032f5ffb"
      },
      "execution_count": null,
      "outputs": [
        {
          "output_type": "display_data",
          "data": {
            "text/html": [
              "<html>\n",
              "<head><meta charset=\"utf-8\" /></head>\n",
              "<body>\n",
              "    <div>            <script src=\"https://cdnjs.cloudflare.com/ajax/libs/mathjax/2.7.5/MathJax.js?config=TeX-AMS-MML_SVG\"></script><script type=\"text/javascript\">if (window.MathJax) {MathJax.Hub.Config({SVG: {font: \"STIX-Web\"}});}</script>                <script type=\"text/javascript\">window.PlotlyConfig = {MathJaxConfig: 'local'};</script>\n",
              "        <script src=\"https://cdn.plot.ly/plotly-2.8.3.min.js\"></script>                <div id=\"be0d0a4f-71d2-4215-9ef6-7935ce8dcf00\" class=\"plotly-graph-div\" style=\"height:500px; width:800px;\"></div>            <script type=\"text/javascript\">                                    window.PLOTLYENV=window.PLOTLYENV || {};                                    if (document.getElementById(\"be0d0a4f-71d2-4215-9ef6-7935ce8dcf00\")) {                    Plotly.newPlot(                        \"be0d0a4f-71d2-4215-9ef6-7935ce8dcf00\",                        [{\"hovertemplate\":\"Cluster=Cluster 2<br>Label=Alzheimer<br>PC1=%{x}<br>PC2=%{y}<extra></extra>\",\"legendgroup\":\"Cluster 2, Alzheimer\",\"marker\":{\"color\":\"#636efa\",\"symbol\":\"cross\",\"line\":{\"color\":\"DarkSlateGrey\",\"width\":1},\"size\":10},\"mode\":\"markers\",\"name\":\"Cluster 2, Alzheimer\",\"orientation\":\"v\",\"showlegend\":true,\"x\":[-0.2591981887817383,-1.1440860033035278,-0.9667694568634033,0.0341363362967968,-0.32649773359298706,-1.1578702926635742,-0.895359992980957,-0.041267361491918564,-0.9051778316497803,-0.559371292591095,-0.12134060263633728,-0.4515327513217926,0.26887136697769165],\"xaxis\":\"x\",\"y\":[0.44836241006851196,-0.06924401223659515,-0.08115767687559128,-0.06668490916490555,-0.16013561189174652,0.2437465488910675,0.2418932318687439,0.027097152546048164,-0.0733998641371727,0.0006362774292938411,0.06182965263724327,-0.09829216450452805,-0.10732635110616684],\"yaxis\":\"y\",\"type\":\"scatter\"},{\"hovertemplate\":\"Cluster=Cluster 2<br>Label=Control<br>PC1=%{x}<br>PC2=%{y}<extra></extra>\",\"legendgroup\":\"Cluster 2, Control\",\"marker\":{\"color\":\"#636efa\",\"symbol\":\"circle\",\"line\":{\"color\":\"DarkSlateGrey\",\"width\":1},\"size\":10},\"mode\":\"markers\",\"name\":\"Cluster 2, Control\",\"orientation\":\"v\",\"showlegend\":true,\"x\":[0.08853431791067123,0.051953013986349106,-0.027971113100647926],\"xaxis\":\"x\",\"y\":[-0.32741644978523254,0.0020645800977945328,0.02382388338446617],\"yaxis\":\"y\",\"type\":\"scatter\"},{\"hovertemplate\":\"Cluster=Cluster 3<br>Label=Control<br>PC1=%{x}<br>PC2=%{y}<extra></extra>\",\"legendgroup\":\"Cluster 3, Control\",\"marker\":{\"color\":\"#EF553B\",\"symbol\":\"circle\",\"line\":{\"color\":\"DarkSlateGrey\",\"width\":1},\"size\":10},\"mode\":\"markers\",\"name\":\"Cluster 3, Control\",\"orientation\":\"v\",\"showlegend\":true,\"x\":[3.753715753555298,2.9418296813964844,2.128105640411377],\"xaxis\":\"x\",\"y\":[-0.5065797567367554,-0.2693783640861511,-0.31818723678588867],\"yaxis\":\"y\",\"type\":\"scatter\"},{\"hovertemplate\":\"Cluster=Cluster 1<br>Label=Alzheimer<br>PC1=%{x}<br>PC2=%{y}<extra></extra>\",\"legendgroup\":\"Cluster 1, Alzheimer\",\"marker\":{\"color\":\"#00cc96\",\"symbol\":\"cross\",\"line\":{\"color\":\"DarkSlateGrey\",\"width\":1},\"size\":10},\"mode\":\"markers\",\"name\":\"Cluster 1, Alzheimer\",\"orientation\":\"v\",\"showlegend\":true,\"x\":[0.4049099385738373],\"xaxis\":\"x\",\"y\":[-0.1582091748714447],\"yaxis\":\"y\",\"type\":\"scatter\"},{\"hovertemplate\":\"Cluster=Cluster 1<br>Label=Control<br>PC1=%{x}<br>PC2=%{y}<extra></extra>\",\"legendgroup\":\"Cluster 1, Control\",\"marker\":{\"color\":\"#00cc96\",\"symbol\":\"circle\",\"line\":{\"color\":\"DarkSlateGrey\",\"width\":1},\"size\":10},\"mode\":\"markers\",\"name\":\"Cluster 1, Control\",\"orientation\":\"v\",\"showlegend\":true,\"x\":[1.5644454956054688,1.427681565284729,1.1744201183319092,1.5261626243591309,1.0700668096542358,1.6872392892837524,1.6824206113815308,0.5185174345970154,0.9293707609176636,0.7746248245239258,1.1399238109588623,0.5847690105438232,0.7559611797332764,1.6378810405731201,1.1705434322357178,1.5756601095199585,0.8167844414710999,0.7890480756759644,1.9091721773147583,0.3872613310813904,0.7562326192855835],\"xaxis\":\"x\",\"y\":[-0.17908477783203125,0.45888805389404297,-0.24561722576618195,0.4035123586654663,-0.2111826092004776,-0.1813853234052658,0.5398761630058289,0.026711467653512955,-0.14770832657814026,0.2591512203216553,0.14513511955738068,0.0006408598856069148,0.08177478611469269,-0.017970120534300804,-0.28300678730010986,-0.2442309409379959,-0.0583830252289772,0.2526533305644989,0.7572587728500366,0.0013856873847544193,0.276195228099823],\"yaxis\":\"y\",\"type\":\"scatter\"},{\"hovertemplate\":\"Cluster=Cluster 4<br>Label=Alzheimer<br>PC1=%{x}<br>PC2=%{y}<extra></extra>\",\"legendgroup\":\"Cluster 4, Alzheimer\",\"marker\":{\"color\":\"#ab63fa\",\"symbol\":\"cross\",\"line\":{\"color\":\"DarkSlateGrey\",\"width\":1},\"size\":10},\"mode\":\"markers\",\"name\":\"Cluster 4, Alzheimer\",\"orientation\":\"v\",\"showlegend\":true,\"x\":[-1.8352614641189575,-3.223337173461914,-2.0941343307495117,-2.2030720710754395,-1.6329915523529053,-2.3376359939575195,-1.49381685256958,-2.382573366165161,-2.6276230812072754,-1.7378294467926025,-1.4522032737731934,-2.211789131164551,-1.4615345001220703],\"xaxis\":\"x\",\"y\":[-0.07934725284576416,-0.22854287922382355,-0.1279967874288559,-0.07536064088344574,0.06672777980566025,-0.12368211150169373,0.10450264811515808,0.032630328088998795,-0.020233996212482452,-0.17848826944828033,-0.04330271854996681,0.007663313299417496,0.2173750251531601],\"yaxis\":\"y\",\"type\":\"scatter\"}],                        {\"template\":{\"data\":{\"bar\":[{\"error_x\":{\"color\":\"#2a3f5f\"},\"error_y\":{\"color\":\"#2a3f5f\"},\"marker\":{\"line\":{\"color\":\"#E5ECF6\",\"width\":0.5},\"pattern\":{\"fillmode\":\"overlay\",\"size\":10,\"solidity\":0.2}},\"type\":\"bar\"}],\"barpolar\":[{\"marker\":{\"line\":{\"color\":\"#E5ECF6\",\"width\":0.5},\"pattern\":{\"fillmode\":\"overlay\",\"size\":10,\"solidity\":0.2}},\"type\":\"barpolar\"}],\"carpet\":[{\"aaxis\":{\"endlinecolor\":\"#2a3f5f\",\"gridcolor\":\"white\",\"linecolor\":\"white\",\"minorgridcolor\":\"white\",\"startlinecolor\":\"#2a3f5f\"},\"baxis\":{\"endlinecolor\":\"#2a3f5f\",\"gridcolor\":\"white\",\"linecolor\":\"white\",\"minorgridcolor\":\"white\",\"startlinecolor\":\"#2a3f5f\"},\"type\":\"carpet\"}],\"choropleth\":[{\"colorbar\":{\"outlinewidth\":0,\"ticks\":\"\"},\"type\":\"choropleth\"}],\"contour\":[{\"colorbar\":{\"outlinewidth\":0,\"ticks\":\"\"},\"colorscale\":[[0.0,\"#0d0887\"],[0.1111111111111111,\"#46039f\"],[0.2222222222222222,\"#7201a8\"],[0.3333333333333333,\"#9c179e\"],[0.4444444444444444,\"#bd3786\"],[0.5555555555555556,\"#d8576b\"],[0.6666666666666666,\"#ed7953\"],[0.7777777777777778,\"#fb9f3a\"],[0.8888888888888888,\"#fdca26\"],[1.0,\"#f0f921\"]],\"type\":\"contour\"}],\"contourcarpet\":[{\"colorbar\":{\"outlinewidth\":0,\"ticks\":\"\"},\"type\":\"contourcarpet\"}],\"heatmap\":[{\"colorbar\":{\"outlinewidth\":0,\"ticks\":\"\"},\"colorscale\":[[0.0,\"#0d0887\"],[0.1111111111111111,\"#46039f\"],[0.2222222222222222,\"#7201a8\"],[0.3333333333333333,\"#9c179e\"],[0.4444444444444444,\"#bd3786\"],[0.5555555555555556,\"#d8576b\"],[0.6666666666666666,\"#ed7953\"],[0.7777777777777778,\"#fb9f3a\"],[0.8888888888888888,\"#fdca26\"],[1.0,\"#f0f921\"]],\"type\":\"heatmap\"}],\"heatmapgl\":[{\"colorbar\":{\"outlinewidth\":0,\"ticks\":\"\"},\"colorscale\":[[0.0,\"#0d0887\"],[0.1111111111111111,\"#46039f\"],[0.2222222222222222,\"#7201a8\"],[0.3333333333333333,\"#9c179e\"],[0.4444444444444444,\"#bd3786\"],[0.5555555555555556,\"#d8576b\"],[0.6666666666666666,\"#ed7953\"],[0.7777777777777778,\"#fb9f3a\"],[0.8888888888888888,\"#fdca26\"],[1.0,\"#f0f921\"]],\"type\":\"heatmapgl\"}],\"histogram\":[{\"marker\":{\"pattern\":{\"fillmode\":\"overlay\",\"size\":10,\"solidity\":0.2}},\"type\":\"histogram\"}],\"histogram2d\":[{\"colorbar\":{\"outlinewidth\":0,\"ticks\":\"\"},\"colorscale\":[[0.0,\"#0d0887\"],[0.1111111111111111,\"#46039f\"],[0.2222222222222222,\"#7201a8\"],[0.3333333333333333,\"#9c179e\"],[0.4444444444444444,\"#bd3786\"],[0.5555555555555556,\"#d8576b\"],[0.6666666666666666,\"#ed7953\"],[0.7777777777777778,\"#fb9f3a\"],[0.8888888888888888,\"#fdca26\"],[1.0,\"#f0f921\"]],\"type\":\"histogram2d\"}],\"histogram2dcontour\":[{\"colorbar\":{\"outlinewidth\":0,\"ticks\":\"\"},\"colorscale\":[[0.0,\"#0d0887\"],[0.1111111111111111,\"#46039f\"],[0.2222222222222222,\"#7201a8\"],[0.3333333333333333,\"#9c179e\"],[0.4444444444444444,\"#bd3786\"],[0.5555555555555556,\"#d8576b\"],[0.6666666666666666,\"#ed7953\"],[0.7777777777777778,\"#fb9f3a\"],[0.8888888888888888,\"#fdca26\"],[1.0,\"#f0f921\"]],\"type\":\"histogram2dcontour\"}],\"mesh3d\":[{\"colorbar\":{\"outlinewidth\":0,\"ticks\":\"\"},\"type\":\"mesh3d\"}],\"parcoords\":[{\"line\":{\"colorbar\":{\"outlinewidth\":0,\"ticks\":\"\"}},\"type\":\"parcoords\"}],\"pie\":[{\"automargin\":true,\"type\":\"pie\"}],\"scatter\":[{\"marker\":{\"colorbar\":{\"outlinewidth\":0,\"ticks\":\"\"}},\"type\":\"scatter\"}],\"scatter3d\":[{\"line\":{\"colorbar\":{\"outlinewidth\":0,\"ticks\":\"\"}},\"marker\":{\"colorbar\":{\"outlinewidth\":0,\"ticks\":\"\"}},\"type\":\"scatter3d\"}],\"scattercarpet\":[{\"marker\":{\"colorbar\":{\"outlinewidth\":0,\"ticks\":\"\"}},\"type\":\"scattercarpet\"}],\"scattergeo\":[{\"marker\":{\"colorbar\":{\"outlinewidth\":0,\"ticks\":\"\"}},\"type\":\"scattergeo\"}],\"scattergl\":[{\"marker\":{\"colorbar\":{\"outlinewidth\":0,\"ticks\":\"\"}},\"type\":\"scattergl\"}],\"scattermapbox\":[{\"marker\":{\"colorbar\":{\"outlinewidth\":0,\"ticks\":\"\"}},\"type\":\"scattermapbox\"}],\"scatterpolar\":[{\"marker\":{\"colorbar\":{\"outlinewidth\":0,\"ticks\":\"\"}},\"type\":\"scatterpolar\"}],\"scatterpolargl\":[{\"marker\":{\"colorbar\":{\"outlinewidth\":0,\"ticks\":\"\"}},\"type\":\"scatterpolargl\"}],\"scatterternary\":[{\"marker\":{\"colorbar\":{\"outlinewidth\":0,\"ticks\":\"\"}},\"type\":\"scatterternary\"}],\"surface\":[{\"colorbar\":{\"outlinewidth\":0,\"ticks\":\"\"},\"colorscale\":[[0.0,\"#0d0887\"],[0.1111111111111111,\"#46039f\"],[0.2222222222222222,\"#7201a8\"],[0.3333333333333333,\"#9c179e\"],[0.4444444444444444,\"#bd3786\"],[0.5555555555555556,\"#d8576b\"],[0.6666666666666666,\"#ed7953\"],[0.7777777777777778,\"#fb9f3a\"],[0.8888888888888888,\"#fdca26\"],[1.0,\"#f0f921\"]],\"type\":\"surface\"}],\"table\":[{\"cells\":{\"fill\":{\"color\":\"#EBF0F8\"},\"line\":{\"color\":\"white\"}},\"header\":{\"fill\":{\"color\":\"#C8D4E3\"},\"line\":{\"color\":\"white\"}},\"type\":\"table\"}]},\"layout\":{\"annotationdefaults\":{\"arrowcolor\":\"#2a3f5f\",\"arrowhead\":0,\"arrowwidth\":1},\"autotypenumbers\":\"strict\",\"coloraxis\":{\"colorbar\":{\"outlinewidth\":0,\"ticks\":\"\"}},\"colorscale\":{\"diverging\":[[0,\"#8e0152\"],[0.1,\"#c51b7d\"],[0.2,\"#de77ae\"],[0.3,\"#f1b6da\"],[0.4,\"#fde0ef\"],[0.5,\"#f7f7f7\"],[0.6,\"#e6f5d0\"],[0.7,\"#b8e186\"],[0.8,\"#7fbc41\"],[0.9,\"#4d9221\"],[1,\"#276419\"]],\"sequential\":[[0.0,\"#0d0887\"],[0.1111111111111111,\"#46039f\"],[0.2222222222222222,\"#7201a8\"],[0.3333333333333333,\"#9c179e\"],[0.4444444444444444,\"#bd3786\"],[0.5555555555555556,\"#d8576b\"],[0.6666666666666666,\"#ed7953\"],[0.7777777777777778,\"#fb9f3a\"],[0.8888888888888888,\"#fdca26\"],[1.0,\"#f0f921\"]],\"sequentialminus\":[[0.0,\"#0d0887\"],[0.1111111111111111,\"#46039f\"],[0.2222222222222222,\"#7201a8\"],[0.3333333333333333,\"#9c179e\"],[0.4444444444444444,\"#bd3786\"],[0.5555555555555556,\"#d8576b\"],[0.6666666666666666,\"#ed7953\"],[0.7777777777777778,\"#fb9f3a\"],[0.8888888888888888,\"#fdca26\"],[1.0,\"#f0f921\"]]},\"colorway\":[\"#636efa\",\"#EF553B\",\"#00cc96\",\"#ab63fa\",\"#FFA15A\",\"#19d3f3\",\"#FF6692\",\"#B6E880\",\"#FF97FF\",\"#FECB52\"],\"font\":{\"color\":\"#2a3f5f\"},\"geo\":{\"bgcolor\":\"white\",\"lakecolor\":\"white\",\"landcolor\":\"#E5ECF6\",\"showlakes\":true,\"showland\":true,\"subunitcolor\":\"white\"},\"hoverlabel\":{\"align\":\"left\"},\"hovermode\":\"closest\",\"mapbox\":{\"style\":\"light\"},\"paper_bgcolor\":\"white\",\"plot_bgcolor\":\"#E5ECF6\",\"polar\":{\"angularaxis\":{\"gridcolor\":\"white\",\"linecolor\":\"white\",\"ticks\":\"\"},\"bgcolor\":\"#E5ECF6\",\"radialaxis\":{\"gridcolor\":\"white\",\"linecolor\":\"white\",\"ticks\":\"\"}},\"scene\":{\"xaxis\":{\"backgroundcolor\":\"#E5ECF6\",\"gridcolor\":\"white\",\"gridwidth\":2,\"linecolor\":\"white\",\"showbackground\":true,\"ticks\":\"\",\"zerolinecolor\":\"white\"},\"yaxis\":{\"backgroundcolor\":\"#E5ECF6\",\"gridcolor\":\"white\",\"gridwidth\":2,\"linecolor\":\"white\",\"showbackground\":true,\"ticks\":\"\",\"zerolinecolor\":\"white\"},\"zaxis\":{\"backgroundcolor\":\"#E5ECF6\",\"gridcolor\":\"white\",\"gridwidth\":2,\"linecolor\":\"white\",\"showbackground\":true,\"ticks\":\"\",\"zerolinecolor\":\"white\"}},\"shapedefaults\":{\"line\":{\"color\":\"#2a3f5f\"}},\"ternary\":{\"aaxis\":{\"gridcolor\":\"white\",\"linecolor\":\"white\",\"ticks\":\"\"},\"baxis\":{\"gridcolor\":\"white\",\"linecolor\":\"white\",\"ticks\":\"\"},\"bgcolor\":\"#E5ECF6\",\"caxis\":{\"gridcolor\":\"white\",\"linecolor\":\"white\",\"ticks\":\"\"}},\"title\":{\"x\":0.05},\"xaxis\":{\"automargin\":true,\"gridcolor\":\"white\",\"linecolor\":\"white\",\"ticks\":\"\",\"title\":{\"standoff\":15},\"zerolinecolor\":\"white\",\"zerolinewidth\":2},\"yaxis\":{\"automargin\":true,\"gridcolor\":\"white\",\"linecolor\":\"white\",\"ticks\":\"\",\"title\":{\"standoff\":15},\"zerolinecolor\":\"white\",\"zerolinewidth\":2}}},\"xaxis\":{\"anchor\":\"y\",\"domain\":[0.0,1.0],\"title\":{\"text\":\"PC1\"}},\"yaxis\":{\"anchor\":\"x\",\"domain\":[0.0,1.0],\"title\":{\"text\":\"PC2\"}},\"legend\":{\"title\":{\"text\":\"Cluster, Label\"},\"tracegroupgap\":0},\"margin\":{\"t\":60},\"height\":500,\"width\":800,\"plot_bgcolor\":\"rgba(0, 100, 255, 0.05)\",\"showlegend\":false},                        {\"responsive\": true}                    ).then(function(){\n",
              "                            \n",
              "var gd = document.getElementById('be0d0a4f-71d2-4215-9ef6-7935ce8dcf00');\n",
              "var x = new MutationObserver(function (mutations, observer) {{\n",
              "        var display = window.getComputedStyle(gd).display;\n",
              "        if (!display || display === 'none') {{\n",
              "            console.log([gd, 'removed!']);\n",
              "            Plotly.purge(gd);\n",
              "            observer.disconnect();\n",
              "        }}\n",
              "}});\n",
              "\n",
              "// Listen for the removal of the full notebook cells\n",
              "var notebookContainer = gd.closest('#notebook-container');\n",
              "if (notebookContainer) {{\n",
              "    x.observe(notebookContainer, {childList: true});\n",
              "}}\n",
              "\n",
              "// Listen for the clearing of the current output cell\n",
              "var outputEl = gd.closest('.output');\n",
              "if (outputEl) {{\n",
              "    x.observe(outputEl, {childList: true});\n",
              "}}\n",
              "\n",
              "                        })                };                            </script>        </div>\n",
              "</body>\n",
              "</html>"
            ]
          },
          "metadata": {}
        }
      ]
    },
    {
      "cell_type": "code",
      "source": [
        "print(\"Cluster Labels: \\n\", labels, \"\\n\")\n",
        "print(\"Cluster IDs: \\n\",clusters, \"\\n\")\n",
        "print(\"Cluster Targets: \\n\",cluster_targets,\"\\n\")"
      ],
      "metadata": {
        "id": "D9-orPFcgDK2",
        "colab": {
          "base_uri": "https://localhost:8080/"
        },
        "outputId": "7d0b22b7-1652-41ed-cae8-8dad2ffbaf0e"
      },
      "execution_count": null,
      "outputs": [
        {
          "output_type": "stream",
          "name": "stdout",
          "text": [
            "Cluster Labels: \n",
            " [1 2 0 3 0 3 0 3 1 3 0 1 3 2 1 1 0 3 3 0 0 0 2 0 3 1 1 1 1 1 0 1 1 0 3 3 0\n",
            " 1 3 0 0 0 0 0 1 1 0 0 0 0 0 1 3 3] \n",
            "\n",
            "Cluster IDs: \n",
            " [array(['BA SE_09_10_1941', 'BE MO_21_12_1943', 'BR AN_22_09_1944',\n",
            "       'CA MO_25_05_1936', 'DA MI_16_05_1949', 'FE CE_30_09_1945',\n",
            "       'GA AN_28_03_1940', 'GA MI_19_10_1941', 'HI FR_25_06_1954',\n",
            "       'MA FR_02_09_1934', 'ME AN_05_12_1947', 'MO AR_14_01_1938',\n",
            "       'NE CH_21_03_1951', 'PA CL_01_09_1941', 'PA CO_27_08_1936',\n",
            "       'PA LO_06_12_1941', 'PE JE_06_11_1940', 'RO FR_29_08_1939',\n",
            "       'RO MA_19_03_1951', 'TH DE_29_11_1947', 'TU CO_14_06_1939',\n",
            "       'VA JE_26_12_1940'], dtype='<U16'), array(['BA MA_28_05_1941', 'CA FR_01_10_1935', 'CE HU_13_07_1931',\n",
            "       'CO ER_18_05_1935', 'DA MI_01_11_1931', 'JO AN_05_04_1945',\n",
            "       'KH LA_31_01_1934', 'LA DE_04_01_1935', 'LA LO_23_06_1926',\n",
            "       'LE ME_09_11_1929', 'MA GE_18_02_1941', 'MA TA_18_05_1931',\n",
            "       'MO MA_21_08_1944', 'RA MA_21_07_1930', 'RO BE_18_12_1928',\n",
            "       'VI PI_18_11_1933'], dtype='<U16'), array(['BA MA_29_03_1951', 'CO CO_02_09_1929', 'HE CA_02_09_1945'],\n",
            "      dtype='<U16'), array(['BE JE_13_04_1931', 'BO RA_01_01_1940', 'BR FE_18_07_1940',\n",
            "       'CA ME_23_02_1947', 'CL CO_25_09_1947', 'DE YV_19_02_1933',\n",
            "       'DU JE_29_08_1931', 'JA HU_19_03_1925', 'ME CA_12_12_1933',\n",
            "       'MI CH_13_02_1935', 'MO MO_18_09_1942', 'WI HU_26_10_1938',\n",
            "       'YV JE_19_02_1943'], dtype='<U16')] \n",
            "\n",
            "Cluster Targets: \n",
            " [[0, 0, 0, 0, 0, 0, 0, 0, 0, 0, 1, 0, 0, 0, 0, 0, 0, 0, 0, 0, 0, 0], [1, 1, 1, 0, 1, 1, 1, 1, 1, 1, 0, 1, 0, 1, 1, 1], [0, 0, 0], [1, 1, 1, 1, 1, 1, 1, 1, 1, 1, 1, 1, 1]] \n",
            "\n"
          ]
        }
      ]
    },
    {
      "cell_type": "markdown",
      "source": [
        "Affinity Propagation"
      ],
      "metadata": {
        "id": "8MmrWmWlfgJV"
      }
    },
    {
      "cell_type": "code",
      "source": [
        "ap_model = AffinityPropagation(damping=0.8, max_iter=200)\n",
        "ap_model.fit(ind_features)\n",
        "\n",
        "labels = ap_model.labels_\n",
        "nb_clusters = len(np.unique(labels))\n",
        "print(ap_model.labels_+1)"
      ],
      "metadata": {
        "id": "spOrJAo2TdcB",
        "colab": {
          "base_uri": "https://localhost:8080/"
        },
        "outputId": "b560ee78-809b-4603-c9e1-2612c3d058cf"
      },
      "execution_count": null,
      "outputs": [
        {
          "output_type": "stream",
          "name": "stdout",
          "text": [
            "[3 1 2 3 2 6 2 6 3 3 2 3 3 4 5 5 2 6 3 4 2 5 4 2 6 5 3 3 5 3 5 5 3 5 6 6 2\n",
            " 5 3 5 5 2 2 4 5 5 5 5 4 5 5 5 3 3]\n"
          ]
        }
      ]
    },
    {
      "cell_type": "markdown",
      "source": [
        "Normalized Mutual Information"
      ],
      "metadata": {
        "id": "sQI4kEQWuslN"
      }
    },
    {
      "cell_type": "code",
      "source": [
        "NMI_scores = []\n",
        "\n",
        "for n_clusters in range(2, 7): \n",
        "    k_means = KMeans(n_clusters, n_init=10, max_iter=300) \n",
        "    k_means.fit(ind_features)\n",
        "    nmi = normalized_mutual_info_score(k_means.labels_, targets)\n",
        "    NMI_scores.append(round(nmi,3))"
      ],
      "metadata": {
        "id": "3fnjEggTwUmx"
      },
      "execution_count": null,
      "outputs": []
    },
    {
      "cell_type": "code",
      "source": [
        "nmi_df = pd.DataFrame([NMI_scores],\n",
        "                      index= ['NMI Score'],\n",
        "                      columns= 'Clusters = ' + pd.RangeIndex(start=2, stop=7, step=1).astype('string'))\n",
        "\n",
        "nmi_df.T"
      ],
      "metadata": {
        "colab": {
          "base_uri": "https://localhost:8080/",
          "height": 206
        },
        "id": "aZtEzGUPxFHa",
        "outputId": "06aeb996-1e3f-4e3b-80e4-a08691a1b954"
      },
      "execution_count": null,
      "outputs": [
        {
          "output_type": "execute_result",
          "data": {
            "text/plain": [
              "              NMI Score\n",
              "Clusters = 2      0.479\n",
              "Clusters = 3      0.524\n",
              "Clusters = 4      0.462\n",
              "Clusters = 5      0.465\n",
              "Clusters = 6      0.464"
            ],
            "text/html": [
              "\n",
              "  <div id=\"df-bebdcc43-41a8-47f8-ae49-122e633448dd\">\n",
              "    <div class=\"colab-df-container\">\n",
              "      <div>\n",
              "<style scoped>\n",
              "    .dataframe tbody tr th:only-of-type {\n",
              "        vertical-align: middle;\n",
              "    }\n",
              "\n",
              "    .dataframe tbody tr th {\n",
              "        vertical-align: top;\n",
              "    }\n",
              "\n",
              "    .dataframe thead th {\n",
              "        text-align: right;\n",
              "    }\n",
              "</style>\n",
              "<table border=\"1\" class=\"dataframe\">\n",
              "  <thead>\n",
              "    <tr style=\"text-align: right;\">\n",
              "      <th></th>\n",
              "      <th>NMI Score</th>\n",
              "    </tr>\n",
              "  </thead>\n",
              "  <tbody>\n",
              "    <tr>\n",
              "      <th>Clusters = 2</th>\n",
              "      <td>0.479</td>\n",
              "    </tr>\n",
              "    <tr>\n",
              "      <th>Clusters = 3</th>\n",
              "      <td>0.524</td>\n",
              "    </tr>\n",
              "    <tr>\n",
              "      <th>Clusters = 4</th>\n",
              "      <td>0.462</td>\n",
              "    </tr>\n",
              "    <tr>\n",
              "      <th>Clusters = 5</th>\n",
              "      <td>0.465</td>\n",
              "    </tr>\n",
              "    <tr>\n",
              "      <th>Clusters = 6</th>\n",
              "      <td>0.464</td>\n",
              "    </tr>\n",
              "  </tbody>\n",
              "</table>\n",
              "</div>\n",
              "      <button class=\"colab-df-convert\" onclick=\"convertToInteractive('df-bebdcc43-41a8-47f8-ae49-122e633448dd')\"\n",
              "              title=\"Convert this dataframe to an interactive table.\"\n",
              "              style=\"display:none;\">\n",
              "        \n",
              "  <svg xmlns=\"http://www.w3.org/2000/svg\" height=\"24px\"viewBox=\"0 0 24 24\"\n",
              "       width=\"24px\">\n",
              "    <path d=\"M0 0h24v24H0V0z\" fill=\"none\"/>\n",
              "    <path d=\"M18.56 5.44l.94 2.06.94-2.06 2.06-.94-2.06-.94-.94-2.06-.94 2.06-2.06.94zm-11 1L8.5 8.5l.94-2.06 2.06-.94-2.06-.94L8.5 2.5l-.94 2.06-2.06.94zm10 10l.94 2.06.94-2.06 2.06-.94-2.06-.94-.94-2.06-.94 2.06-2.06.94z\"/><path d=\"M17.41 7.96l-1.37-1.37c-.4-.4-.92-.59-1.43-.59-.52 0-1.04.2-1.43.59L10.3 9.45l-7.72 7.72c-.78.78-.78 2.05 0 2.83L4 21.41c.39.39.9.59 1.41.59.51 0 1.02-.2 1.41-.59l7.78-7.78 2.81-2.81c.8-.78.8-2.07 0-2.86zM5.41 20L4 18.59l7.72-7.72 1.47 1.35L5.41 20z\"/>\n",
              "  </svg>\n",
              "      </button>\n",
              "      \n",
              "  <style>\n",
              "    .colab-df-container {\n",
              "      display:flex;\n",
              "      flex-wrap:wrap;\n",
              "      gap: 12px;\n",
              "    }\n",
              "\n",
              "    .colab-df-convert {\n",
              "      background-color: #E8F0FE;\n",
              "      border: none;\n",
              "      border-radius: 50%;\n",
              "      cursor: pointer;\n",
              "      display: none;\n",
              "      fill: #1967D2;\n",
              "      height: 32px;\n",
              "      padding: 0 0 0 0;\n",
              "      width: 32px;\n",
              "    }\n",
              "\n",
              "    .colab-df-convert:hover {\n",
              "      background-color: #E2EBFA;\n",
              "      box-shadow: 0px 1px 2px rgba(60, 64, 67, 0.3), 0px 1px 3px 1px rgba(60, 64, 67, 0.15);\n",
              "      fill: #174EA6;\n",
              "    }\n",
              "\n",
              "    [theme=dark] .colab-df-convert {\n",
              "      background-color: #3B4455;\n",
              "      fill: #D2E3FC;\n",
              "    }\n",
              "\n",
              "    [theme=dark] .colab-df-convert:hover {\n",
              "      background-color: #434B5C;\n",
              "      box-shadow: 0px 1px 3px 1px rgba(0, 0, 0, 0.15);\n",
              "      filter: drop-shadow(0px 1px 2px rgba(0, 0, 0, 0.3));\n",
              "      fill: #FFFFFF;\n",
              "    }\n",
              "  </style>\n",
              "\n",
              "      <script>\n",
              "        const buttonEl =\n",
              "          document.querySelector('#df-bebdcc43-41a8-47f8-ae49-122e633448dd button.colab-df-convert');\n",
              "        buttonEl.style.display =\n",
              "          google.colab.kernel.accessAllowed ? 'block' : 'none';\n",
              "\n",
              "        async function convertToInteractive(key) {\n",
              "          const element = document.querySelector('#df-bebdcc43-41a8-47f8-ae49-122e633448dd');\n",
              "          const dataTable =\n",
              "            await google.colab.kernel.invokeFunction('convertToInteractive',\n",
              "                                                     [key], {});\n",
              "          if (!dataTable) return;\n",
              "\n",
              "          const docLinkHtml = 'Like what you see? Visit the ' +\n",
              "            '<a target=\"_blank\" href=https://colab.research.google.com/notebooks/data_table.ipynb>data table notebook</a>'\n",
              "            + ' to learn more about interactive tables.';\n",
              "          element.innerHTML = '';\n",
              "          dataTable['output_type'] = 'display_data';\n",
              "          await google.colab.output.renderOutput(dataTable, element);\n",
              "          const docLink = document.createElement('div');\n",
              "          docLink.innerHTML = docLinkHtml;\n",
              "          element.appendChild(docLink);\n",
              "        }\n",
              "      </script>\n",
              "    </div>\n",
              "  </div>\n",
              "  "
            ]
          },
          "metadata": {},
          "execution_count": 77
        }
      ]
    },
    {
      "cell_type": "markdown",
      "source": [
        "Consensus Clustering"
      ],
      "metadata": {
        "id": "pTBfq8TXjZME"
      }
    },
    {
      "cell_type": "code",
      "source": [
        "# k_means model 2\n",
        "k_means2 = KMeans(n_clusters=nb_clusters, n_init=10, max_iter=300) \n",
        "k_means2.fit(ind_features)\n",
        "labels2 = k_means2.labels_\n",
        "\n",
        "# k_means model 3\n",
        "k_means3 = KMeans(n_clusters=nb_clusters, n_init=10, max_iter=300) \n",
        "k_means3.fit(ind_features)\n",
        "labels3 = k_means3.labels_"
      ],
      "metadata": {
        "id": "qxpG7YEFkA3f"
      },
      "execution_count": null,
      "outputs": []
    },
    {
      "cell_type": "code",
      "source": [
        "print('K_means Labels:\\n', labels, '\\n')\n",
        "print('K_means2 Labels:\\n', labels2, '\\n')\n",
        "print('K_means3 Labels:\\n', labels3, '\\n')"
      ],
      "metadata": {
        "colab": {
          "base_uri": "https://localhost:8080/"
        },
        "id": "La5TbiXQlbMg",
        "outputId": "bae5b5f8-0945-448e-8084-9c333c0d12cc"
      },
      "execution_count": null,
      "outputs": [
        {
          "output_type": "stream",
          "name": "stdout",
          "text": [
            "K_means Labels:\n",
            " [2 0 0 1 0 1 0 1 1 1 0 1 1 0 2 2 0 1 1 0 0 2 0 2 1 2 1 1 2 1 2 2 2 2 1 1 0\n",
            " 2 1 2 2 0 0 0 2 2 2 2 0 2 2 2 1 1] \n",
            "\n",
            "K_means2 Labels:\n",
            " [2 1 1 0 1 0 1 0 0 0 1 0 0 1 2 2 1 0 0 1 1 2 1 2 0 2 0 0 2 0 2 2 2 2 0 0 1\n",
            " 2 0 2 2 1 1 1 2 2 2 2 1 2 2 2 0 0] \n",
            "\n",
            "K_means3 Labels:\n",
            " [1 2 2 0 2 0 2 0 0 0 2 0 0 2 1 1 2 0 0 2 2 1 2 1 0 1 0 0 1 0 1 1 1 1 0 0 2\n",
            " 1 0 1 1 2 2 2 1 1 1 1 2 1 1 1 0 0] \n",
            "\n"
          ]
        }
      ]
    },
    {
      "cell_type": "code",
      "source": [
        "# Consensus Clustering\n",
        "\n",
        "all_labels = np.array([labels, labels2, labels3])\n",
        "labels_ce = CE.cluster_ensembles(all_labels)\n",
        "\n",
        "labels_ce"
      ],
      "metadata": {
        "colab": {
          "base_uri": "https://localhost:8080/"
        },
        "id": "sXxTwDYCcFWn",
        "outputId": "9a997bff-1a37-45e0-f0e2-13dbe51a1a35"
      },
      "execution_count": null,
      "outputs": [
        {
          "output_type": "execute_result",
          "data": {
            "text/plain": [
              "array([2, 1, 1, 0, 1, 0, 1, 0, 0, 0, 1, 0, 0, 1, 2, 1, 1, 0, 0, 1, 1, 2,\n",
              "       1, 2, 0, 2, 0, 0, 2, 0, 2, 2, 1, 2, 0, 0, 1, 2, 0, 2, 2, 1, 1, 1,\n",
              "       2, 2, 2, 2, 1, 2, 2, 2, 0, 0])"
            ]
          },
          "metadata": {},
          "execution_count": 326
        }
      ]
    },
    {
      "cell_type": "markdown",
      "source": [
        "Silhouette Analysis"
      ],
      "metadata": {
        "id": "UJRHmKEc7BRk"
      }
    },
    {
      "cell_type": "code",
      "source": [
        "silhouettes = []\n",
        "\n",
        "for n_clusters in range(3, 7): \n",
        "    k_means = KMeans(n_clusters, n_init=10, max_iter=300) \n",
        "    k_means.fit(ind_features)\n",
        "    score = silhouette_score(ind_features, k_means.labels_, metric='euclidean')\n",
        "    silhouettes.append(score)"
      ],
      "metadata": {
        "id": "uBG94OVpaGPT"
      },
      "execution_count": null,
      "outputs": []
    },
    {
      "cell_type": "code",
      "source": [
        "y_axis = 'Nb Clusters = ' + pd.RangeIndex(start=3, stop=7, step=1).astype('string')\n",
        "x_axis = silhouettes\n",
        "\n",
        "plt.barh(y_axis, x_axis, color=(0.0, 0.2, 0.8, 0.6)) # green: 0.3, 0.7, 0.2, 0.5 #red:(0.9, 0.0, 0.0, 0.5) # blue:(0.0, 0.2, 0.8, 0.6)\n",
        "plt.xlabel('Average Silhouette Score')\n",
        "plt.xlim(0.3, 0.6)\n",
        "plt.xticks(np.arange(0.3, 0.61, step=0.05))\n",
        "plt.gca().invert_yaxis()\n",
        "plt.show()"
      ],
      "metadata": {
        "colab": {
          "base_uri": "https://localhost:8080/",
          "height": 279
        },
        "id": "ckkkOivRMYnP",
        "outputId": "3ce20ae6-2e79-4e35-b5bf-62ea11f77cd5"
      },
      "execution_count": null,
      "outputs": [
        {
          "output_type": "display_data",
          "data": {
            "text/plain": [
              "<Figure size 432x288 with 1 Axes>"
            ],
            "image/png": "[encoded data removed]"
          },
          "metadata": {
            "needs_background": "light"
          }
        }
      ]
    },
    {
      "cell_type": "code",
      "source": [
        "# Silhouette Plot\n",
        "\n",
        "X = ind_features\n",
        "range_n_clusters = [3, 4, 5, 6]\n",
        "\n",
        "for n_clusters in range_n_clusters:\n",
        "    fig, (ax1, ax2) = plt.subplots(1, 2)\n",
        "    fig.set_size_inches(18, 7)\n",
        "\n",
        "    # 1st Plot - Silhouette Plot\n",
        "    ax1.set_xlim([-0.1, 1])\n",
        "    ax1.set_ylim([0, len(X) + (n_clusters + 1) * 10])\n",
        "\n",
        "    clusterer = KMeans(n_clusters=n_clusters, random_state=10,  n_init=10)\n",
        "    cluster_labels = clusterer.fit_predict(X)\n",
        "\n",
        "    silhouette_avg = silhouette_score(X, cluster_labels)\n",
        "    print(\n",
        "        \"For nb clusters =\",\n",
        "        n_clusters,\n",
        "        \"The average silhouette score is :\",\n",
        "        silhouette_avg,\n",
        "    )\n",
        "\n",
        "    # Compute the silhouette scores for each sample\n",
        "    sample_silhouette_values = silhouette_samples(X, cluster_labels)\n",
        "\n",
        "    y_lower = 10\n",
        "    for i in range(n_clusters):\n",
        "        # Aggregate the silhouette scores for samples belonging to cluster i, and sort them\n",
        "        ith_cluster_silhouette_values = sample_silhouette_values[cluster_labels == i]\n",
        "\n",
        "        ith_cluster_silhouette_values.sort()\n",
        "\n",
        "        size_cluster_i = ith_cluster_silhouette_values.shape[0]\n",
        "        y_upper = y_lower + size_cluster_i\n",
        "\n",
        "        color = cm.nipy_spectral(float(i) / n_clusters)\n",
        "        ax1.fill_betweenx(\n",
        "            np.arange(y_lower, y_upper),\n",
        "            0,\n",
        "            ith_cluster_silhouette_values,\n",
        "            facecolor=color,\n",
        "            edgecolor=color,\n",
        "            alpha=0.7,\n",
        "        )\n",
        "\n",
        "        # Label the silhouette plots with their cluster numbers at the middle\n",
        "        ax1.text(-0.05, y_lower + 0.5 * size_cluster_i, str(i))\n",
        "        y_lower = y_upper + 10  \n",
        "\n",
        "    #ax1.set_title(\"The silhouette plot for the various clusters.\")\n",
        "    ax1.set_title(\"Silhouette Plot for nb clusters = %d\"% n_clusters)\n",
        "    ax1.set_xlabel(\"The silhouette coefficient values\")\n",
        "    ax1.set_ylabel(\"Cluster label\")\n",
        "\n",
        "    # The vertical line for average silhouette score of all the values\n",
        "    ax1.axvline(x=silhouette_avg, color=\"red\", linestyle=\"--\")\n",
        "\n",
        "    ax1.set_yticks([])  # Clear the yaxis labels / ticks\n",
        "    ax1.set_xticks([-0.1, 0, 0.2, 0.4, 0.6, 0.8, 1])\n",
        "\n",
        "    # 2nd Plot - Actual Clusters formed\n",
        "    colors = cm.nipy_spectral(cluster_labels.astype(float) / n_clusters)\n",
        "    ax2.scatter(\n",
        "        X[:, 0], X[:, 1], marker=\".\", s=30, lw=0, alpha=0.7, c=colors, edgecolor=\"k\"\n",
        "    )\n",
        "\n",
        "    # Labeling the clusters\n",
        "    centers = clusterer.cluster_centers_ \n",
        "    # Draw white circles at cluster centers\n",
        "    ax2.scatter(\n",
        "        centers[:, 0],\n",
        "        centers[:, 1],\n",
        "        marker=\"o\",\n",
        "        c=\"white\",\n",
        "        alpha=1,\n",
        "        s=200,\n",
        "        edgecolor=\"k\",\n",
        "    )\n",
        "\n",
        "    for i, c in enumerate(centers):\n",
        "        ax2.scatter(c[0], c[1], marker=\"$%d$\" % i, alpha=1, s=50, edgecolor=\"k\")\n",
        "\n",
        "    ax2.set_title(\"The visualization of the clustered data.\")\n",
        "    ax2.set_xlabel(\"Feature space for the 1st feature\")\n",
        "    ax2.set_ylabel(\"Feature space for the 2nd feature\")\n",
        "\n",
        "    plt.suptitle(\n",
        "        \"Silhouette analysis for KMeans clustering on sample data with n_clusters = %d\"\n",
        "        % n_clusters,\n",
        "        fontsize=14,\n",
        "        fontweight=\"bold\",\n",
        "    )\n",
        "\n",
        "plt.show()"
      ],
      "metadata": {
        "colab": {
          "base_uri": "https://localhost:8080/",
          "height": 1000
        },
        "id": "aF3M8W-z66UF",
        "outputId": "c484d4fa-ab38-460f-a7ce-4219cb41b3bc"
      },
      "execution_count": null,
      "outputs": [
        {
          "output_type": "stream",
          "name": "stdout",
          "text": [
            "For nb clusters = 3 The average silhouette score is : 0.5258466\n",
            "For nb clusters = 4 The average silhouette score is : 0.5092517\n",
            "For nb clusters = 5 The average silhouette score is : 0.5093388\n",
            "For nb clusters = 6 The average silhouette score is : 0.49030527\n"
          ]
        },
        {
          "output_type": "display_data",
          "data": {
            "text/plain": [
              "<Figure size 1296x504 with 2 Axes>"
            ],
            "image/png": "[encoded data removed]"
          },
          "metadata": {
            "needs_background": "light"
          }
        },
        {
          "output_type": "display_data",
          "data": {
            "text/plain": [
              "<Figure size 1296x504 with 2 Axes>"
            ],
            "image/png": "[encoded data removed]"
          },
          "metadata": {
            "needs_background": "light"
          }
        },
        {
          "output_type": "display_data",
          "data": {
            "text/plain": [
              "<Figure size 1296x504 with 2 Axes>"
            ],
            "image/png": "[encoded data removed]"
          },
          "metadata": {
            "needs_background": "light"
          }
        },
        {
          "output_type": "display_data",
          "data": {
            "text/plain": [
              "<Figure size 1296x504 with 2 Axes>"
            ],
            "image/png": "[encoded data removed]"
          },
          "metadata": {
            "needs_background": "light"
          }
        }
      ]
    },
    {
      "cell_type": "markdown",
      "source": [
        "Prediction Strength"
      ],
      "metadata": {
        "id": "X-eauaS9J56g"
      }
    },
    {
      "cell_type": "code",
      "source": [
        "def get_closest_centroid(obs, centroids):\n",
        "    '''\n",
        "    Function for retrieving the closest centroid to the given observation \n",
        "    in terms of the Euclidean distance.\n",
        "    \n",
        "    Parameters\n",
        "    ----------\n",
        "    obs : array\n",
        "        An array containing the observation to be matched to the nearest centroid\n",
        "    centroids : array\n",
        "        An array containing the centroids\n",
        "    \n",
        "    Returns\n",
        "    -------\n",
        "    min_centroid : array\n",
        "        The centroid closes to the obs \n",
        "    '''\n",
        "    min_distance = sys.float_info.max\n",
        "    min_centroid = 0\n",
        "    \n",
        "    for c in centroids:\n",
        "        dist = distance.euclidean(obs, c)\n",
        "        if dist < min_distance:\n",
        "            min_distance = dist\n",
        "            min_centroid = c\n",
        "            \n",
        "    return min_centroid"
      ],
      "metadata": {
        "id": "2enDmG1OZzHD"
      },
      "execution_count": null,
      "outputs": []
    },
    {
      "cell_type": "code",
      "source": [
        "def get_prediction_strength(k, train_centroids, x_test, test_labels):\n",
        "    '''\n",
        "    Function for calculating the prediction strength of clustering\n",
        "    \n",
        "    Parameters\n",
        "    ----------\n",
        "    k : int\n",
        "        The number of clusters\n",
        "    train_centroids : array\n",
        "        Centroids from the clustering on the training set\n",
        "    x_test : array\n",
        "        Test set observations\n",
        "    test_labels : array\n",
        "        Labels predicted for the test set\n",
        "        \n",
        "    Returns\n",
        "    -------\n",
        "    prediction_strength : float\n",
        "        Calculated prediction strength\n",
        "    '''\n",
        "    n_test = len(x_test)\n",
        "    \n",
        "    # populate the co-membership matrix\n",
        "    D = np.zeros(shape=(n_test, n_test))\n",
        "    for x1, l1, c1 in zip(x_test, test_labels, list(range(n_test))):\n",
        "        for x2, l2, c2 in zip(x_test, test_labels, list(range(n_test))):\n",
        "            if tuple(x1) != tuple(x2):\n",
        "                if tuple(get_closest_centroid(x1, train_centroids)) == tuple(get_closest_centroid(x2, train_centroids)):\n",
        "                    D[c1,c2] = 1.0\n",
        "    \n",
        "    # calculate the prediction strengths for each cluster\n",
        "    ss = []\n",
        "    for j in range(k):\n",
        "        s = 0\n",
        "        examples_j = x_test[test_labels == j, :].tolist()\n",
        "        n_examples_j = len(examples_j)\n",
        "        for x1, l1, c1 in zip(x_test, test_labels, list(range(n_test))):\n",
        "            for x2, l2, c2 in zip(x_test, test_labels, list(range(n_test))):\n",
        "                if tuple(x1) != tuple(x2) and l1 == l2 and l1 == j:\n",
        "                    s += D[c1,c2]\n",
        "        ss.append(s / (n_examples_j * (n_examples_j -1))) \n",
        "\n",
        "    prediction_strength = min(ss)\n",
        "\n",
        "    return prediction_strength"
      ],
      "metadata": {
        "id": "o_R2wwRDZ3Wb"
      },
      "execution_count": null,
      "outputs": []
    },
    {
      "cell_type": "code",
      "source": [
        "# Running the Clustering \n",
        "\n",
        "X = features\n",
        "X_train, X_test = train_test_split(X, test_size=0.3, shuffle=True)\n",
        "\n",
        "clusters = range(1, 7)\n",
        "\n",
        "strengths = []\n",
        "for k in clusters:\n",
        "    model_train = KMeans(n_clusters=k, n_init=10).fit(X_train) \n",
        "    model_test = KMeans(n_clusters=k, n_init=10).fit(X_test) \n",
        "    \n",
        "    pred_str = get_prediction_strength(k, model_train.cluster_centers_, X_test, model_test.labels_)\n",
        "    strengths.append(pred_str)\n",
        "\n",
        "_, ax = plt.subplots()\n",
        "ax.plot(clusters, strengths, '-o', color='black')\n",
        "#ax.axhline(y=0.8, c='red');\n",
        "ax.set(xlabel='Number of Clusters', \n",
        "       ylabel='Prediction Strength');"
      ],
      "metadata": {
        "colab": {
          "base_uri": "https://localhost:8080/",
          "height": 361
        },
        "id": "tRNlujZyZ9-9",
        "outputId": "e93e81d6-b0c1-4e1c-b3e7-7d9bdfbeef81"
      },
      "execution_count": null,
      "outputs": [
        {
          "output_type": "display_data",
          "data": {
            "text/plain": [
              "<Figure size 576x396 with 1 Axes>"
            ],
            "image/png": "[encoded data removed]"
          },
          "metadata": {}
        }
      ]
    }
  ]
}